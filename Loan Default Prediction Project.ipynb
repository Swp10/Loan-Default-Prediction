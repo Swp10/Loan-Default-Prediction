{
 "cells": [
  {
   "cell_type": "markdown",
   "metadata": {},
   "source": [
    "I will be exploring publicly available Lending Club data from Kaggle. Lending Club is a platform bringing borrowers and investors together, transforming the way people access credit. As an investor, you would want to invest in people who showed a profile of having a high probability of paying back. I will try to create a model to predict this.\n",
    "\n",
    "The features represent as follow:\n",
    "\n",
    "1. credit.policy: 1 if the customer meets the credit underwriting criteria of LendingClub.com, and 0 otherwise.\n",
    "2. purpose: The purpose of the loan\n",
    "3. int.rate: The interest rate of the loan\n",
    "4. installment: The monthly installments owed by the borrower if the loan is funded.\n",
    "5. log.annual.inc: The natural log of the self-reported annual income of the borrower.\n",
    "6. dti: The debt-to-income ratio of the borrower (amount of debt divided by annual income).\n",
    "7. fico: The FICO credit score of the borrower.\n",
    "8. days.with.cr.line: The number of days the borrower has had a credit line.\n",
    "9. revol.bal: The borrower's revolving balance (amount unpaid at the end of the credit card billing cycle).\n",
    "10. revol.util: The borrower's revolving line utilization rate (the amount of the credit line used relative to total credit available).\n",
    "11. inq.last.6mths: The borrower's number of inquiries by creditors in the last 6 months.\n",
    "12. delinq.2yrs: The number of times the borrower had been 30+ days past due on a payment in the past 2 years.\n",
    "13. pub.rec: The borrower's number of derogatory public records (bankruptcy filings, tax liens, or judgments)."
   ]
  },
  {
   "cell_type": "markdown",
   "metadata": {},
   "source": [
    "# Import Libraries\n",
    "\n",
    "**Import the usual libraries for pandas and plotting. You can import sklearn later on.**"
   ]
  },
  {
   "cell_type": "code",
   "execution_count": 107,
   "metadata": {},
   "outputs": [],
   "source": [
    "import numpy as np\n",
    "import pandas as pd\n",
    "import seaborn as sns\n",
    "sns.set_style('whitegrid')\n",
    "import matplotlib.pyplot as plt\n",
    "%matplotlib inline\n",
    "from sklearn.ensemble import RandomForestClassifier\n",
    "from sklearn.svm import SVC\n",
    "from sklearn import svm\n",
    "from sklearn.linear_model import LinearRegression\n",
    "from sklearn.linear_model import LogisticRegression\n",
    "from sklearn.tree import DecisionTreeClassifier\n",
    "from sklearn.neighbors import KNeighborsClassifier\n",
    "from sklearn.metrics import confusion_matrix, classification_report\n",
    "from sklearn.preprocessing import StandardScaler, LabelEncoder\n",
    "from sklearn.model_selection import train_test_split\n",
    "from sklearn.model_selection import cross_val_score\n",
    "from sklearn.model_selection import GridSearchCV\n",
    "\n",
    "\n",
    "import warnings\n",
    "warnings.filterwarnings(\"ignore\")"
   ]
  },
  {
   "cell_type": "markdown",
   "metadata": {},
   "source": [
    "## Get the Data\n",
    "\n",
    "** Use pandas to read loan_data.csv as a dataframe called loan**"
   ]
  },
  {
   "cell_type": "code",
   "execution_count": 108,
   "metadata": {},
   "outputs": [],
   "source": [
    "# load dataset\n",
    "loan = pd.read_csv(\"loandata.csv\")"
   ]
  },
  {
   "cell_type": "markdown",
   "metadata": {},
   "source": [
    "** Check out the info(), head(), and describe() methods on loan**"
   ]
  },
  {
   "cell_type": "code",
   "execution_count": 109,
   "metadata": {},
   "outputs": [
    {
     "name": "stdout",
     "output_type": "stream",
     "text": [
      "<class 'pandas.core.frame.DataFrame'>\n",
      "RangeIndex: 9578 entries, 0 to 9577\n",
      "Data columns (total 14 columns):\n",
      "credit.policy        9578 non-null int64\n",
      "purpose              9578 non-null object\n",
      "int.rate             9567 non-null float64\n",
      "installment          9568 non-null float64\n",
      "log.annual.inc       9563 non-null float64\n",
      "dti                  9572 non-null float64\n",
      "fico                 9570 non-null float64\n",
      "days.with.cr.line    9569 non-null float64\n",
      "revol.bal            9566 non-null float64\n",
      "revol.util           9554 non-null float64\n",
      "inq.last.6mths       9576 non-null float64\n",
      "delinq.2yrs          9437 non-null float64\n",
      "pub.rec              9571 non-null float64\n",
      "not.fully.paid       9578 non-null int64\n",
      "dtypes: float64(11), int64(2), object(1)\n",
      "memory usage: 1.0+ MB\n"
     ]
    }
   ],
   "source": [
    "loan.info()"
   ]
  },
  {
   "cell_type": "code",
   "execution_count": 110,
   "metadata": {},
   "outputs": [
    {
     "data": {
      "text/html": [
       "<div>\n",
       "<style scoped>\n",
       "    .dataframe tbody tr th:only-of-type {\n",
       "        vertical-align: middle;\n",
       "    }\n",
       "\n",
       "    .dataframe tbody tr th {\n",
       "        vertical-align: top;\n",
       "    }\n",
       "\n",
       "    .dataframe thead th {\n",
       "        text-align: right;\n",
       "    }\n",
       "</style>\n",
       "<table border=\"1\" class=\"dataframe\">\n",
       "  <thead>\n",
       "    <tr style=\"text-align: right;\">\n",
       "      <th></th>\n",
       "      <th>credit.policy</th>\n",
       "      <th>int.rate</th>\n",
       "      <th>installment</th>\n",
       "      <th>log.annual.inc</th>\n",
       "      <th>dti</th>\n",
       "      <th>fico</th>\n",
       "      <th>days.with.cr.line</th>\n",
       "      <th>revol.bal</th>\n",
       "      <th>revol.util</th>\n",
       "      <th>inq.last.6mths</th>\n",
       "      <th>delinq.2yrs</th>\n",
       "      <th>pub.rec</th>\n",
       "      <th>not.fully.paid</th>\n",
       "    </tr>\n",
       "  </thead>\n",
       "  <tbody>\n",
       "    <tr>\n",
       "      <th>count</th>\n",
       "      <td>9578.000000</td>\n",
       "      <td>9567.000000</td>\n",
       "      <td>9568.000000</td>\n",
       "      <td>9563.000000</td>\n",
       "      <td>9572.000000</td>\n",
       "      <td>9570.000000</td>\n",
       "      <td>9569.000000</td>\n",
       "      <td>9.566000e+03</td>\n",
       "      <td>9554.00000</td>\n",
       "      <td>9576.000000</td>\n",
       "      <td>9437.000000</td>\n",
       "      <td>9571.000000</td>\n",
       "      <td>9578.000000</td>\n",
       "    </tr>\n",
       "    <tr>\n",
       "      <th>mean</th>\n",
       "      <td>0.804970</td>\n",
       "      <td>0.122635</td>\n",
       "      <td>319.023501</td>\n",
       "      <td>10.932103</td>\n",
       "      <td>12.607233</td>\n",
       "      <td>710.845873</td>\n",
       "      <td>4560.281978</td>\n",
       "      <td>1.692094e+04</td>\n",
       "      <td>46.79152</td>\n",
       "      <td>1.576859</td>\n",
       "      <td>0.166154</td>\n",
       "      <td>0.062167</td>\n",
       "      <td>0.160054</td>\n",
       "    </tr>\n",
       "    <tr>\n",
       "      <th>std</th>\n",
       "      <td>0.396245</td>\n",
       "      <td>0.026847</td>\n",
       "      <td>207.043263</td>\n",
       "      <td>0.614959</td>\n",
       "      <td>6.885266</td>\n",
       "      <td>37.976124</td>\n",
       "      <td>2496.825275</td>\n",
       "      <td>3.377021e+04</td>\n",
       "      <td>28.99753</td>\n",
       "      <td>2.199488</td>\n",
       "      <td>0.549911</td>\n",
       "      <td>0.262217</td>\n",
       "      <td>0.366676</td>\n",
       "    </tr>\n",
       "    <tr>\n",
       "      <th>min</th>\n",
       "      <td>0.000000</td>\n",
       "      <td>0.060000</td>\n",
       "      <td>15.670000</td>\n",
       "      <td>7.547502</td>\n",
       "      <td>0.000000</td>\n",
       "      <td>612.000000</td>\n",
       "      <td>178.958333</td>\n",
       "      <td>0.000000e+00</td>\n",
       "      <td>0.00000</td>\n",
       "      <td>0.000000</td>\n",
       "      <td>0.000000</td>\n",
       "      <td>0.000000</td>\n",
       "      <td>0.000000</td>\n",
       "    </tr>\n",
       "    <tr>\n",
       "      <th>25%</th>\n",
       "      <td>1.000000</td>\n",
       "      <td>0.103900</td>\n",
       "      <td>163.767500</td>\n",
       "      <td>10.558414</td>\n",
       "      <td>7.207500</td>\n",
       "      <td>682.000000</td>\n",
       "      <td>2820.000000</td>\n",
       "      <td>3.192250e+03</td>\n",
       "      <td>22.60000</td>\n",
       "      <td>0.000000</td>\n",
       "      <td>0.000000</td>\n",
       "      <td>0.000000</td>\n",
       "      <td>0.000000</td>\n",
       "    </tr>\n",
       "    <tr>\n",
       "      <th>50%</th>\n",
       "      <td>1.000000</td>\n",
       "      <td>0.122100</td>\n",
       "      <td>268.950000</td>\n",
       "      <td>10.928238</td>\n",
       "      <td>12.670000</td>\n",
       "      <td>707.000000</td>\n",
       "      <td>4139.958333</td>\n",
       "      <td>8.598000e+03</td>\n",
       "      <td>46.30000</td>\n",
       "      <td>1.000000</td>\n",
       "      <td>0.000000</td>\n",
       "      <td>0.000000</td>\n",
       "      <td>0.000000</td>\n",
       "    </tr>\n",
       "    <tr>\n",
       "      <th>75%</th>\n",
       "      <td>1.000000</td>\n",
       "      <td>0.140700</td>\n",
       "      <td>432.282500</td>\n",
       "      <td>11.289832</td>\n",
       "      <td>17.950000</td>\n",
       "      <td>737.000000</td>\n",
       "      <td>5730.000000</td>\n",
       "      <td>1.826175e+04</td>\n",
       "      <td>70.90000</td>\n",
       "      <td>2.000000</td>\n",
       "      <td>0.000000</td>\n",
       "      <td>0.000000</td>\n",
       "      <td>0.000000</td>\n",
       "    </tr>\n",
       "    <tr>\n",
       "      <th>max</th>\n",
       "      <td>1.000000</td>\n",
       "      <td>0.216400</td>\n",
       "      <td>940.140000</td>\n",
       "      <td>14.528354</td>\n",
       "      <td>29.960000</td>\n",
       "      <td>827.000000</td>\n",
       "      <td>17639.958330</td>\n",
       "      <td>1.207359e+06</td>\n",
       "      <td>119.00000</td>\n",
       "      <td>33.000000</td>\n",
       "      <td>13.000000</td>\n",
       "      <td>5.000000</td>\n",
       "      <td>1.000000</td>\n",
       "    </tr>\n",
       "  </tbody>\n",
       "</table>\n",
       "</div>"
      ],
      "text/plain": [
       "       credit.policy     int.rate  installment  log.annual.inc          dti  \\\n",
       "count    9578.000000  9567.000000  9568.000000     9563.000000  9572.000000   \n",
       "mean        0.804970     0.122635   319.023501       10.932103    12.607233   \n",
       "std         0.396245     0.026847   207.043263        0.614959     6.885266   \n",
       "min         0.000000     0.060000    15.670000        7.547502     0.000000   \n",
       "25%         1.000000     0.103900   163.767500       10.558414     7.207500   \n",
       "50%         1.000000     0.122100   268.950000       10.928238    12.670000   \n",
       "75%         1.000000     0.140700   432.282500       11.289832    17.950000   \n",
       "max         1.000000     0.216400   940.140000       14.528354    29.960000   \n",
       "\n",
       "              fico  days.with.cr.line     revol.bal  revol.util  \\\n",
       "count  9570.000000        9569.000000  9.566000e+03  9554.00000   \n",
       "mean    710.845873        4560.281978  1.692094e+04    46.79152   \n",
       "std      37.976124        2496.825275  3.377021e+04    28.99753   \n",
       "min     612.000000         178.958333  0.000000e+00     0.00000   \n",
       "25%     682.000000        2820.000000  3.192250e+03    22.60000   \n",
       "50%     707.000000        4139.958333  8.598000e+03    46.30000   \n",
       "75%     737.000000        5730.000000  1.826175e+04    70.90000   \n",
       "max     827.000000       17639.958330  1.207359e+06   119.00000   \n",
       "\n",
       "       inq.last.6mths  delinq.2yrs      pub.rec  not.fully.paid  \n",
       "count     9576.000000  9437.000000  9571.000000     9578.000000  \n",
       "mean         1.576859     0.166154     0.062167        0.160054  \n",
       "std          2.199488     0.549911     0.262217        0.366676  \n",
       "min          0.000000     0.000000     0.000000        0.000000  \n",
       "25%          0.000000     0.000000     0.000000        0.000000  \n",
       "50%          1.000000     0.000000     0.000000        0.000000  \n",
       "75%          2.000000     0.000000     0.000000        0.000000  \n",
       "max         33.000000    13.000000     5.000000        1.000000  "
      ]
     },
     "execution_count": 110,
     "metadata": {},
     "output_type": "execute_result"
    }
   ],
   "source": [
    "loan.describe()"
   ]
  },
  {
   "cell_type": "code",
   "execution_count": 111,
   "metadata": {
    "scrolled": true
   },
   "outputs": [
    {
     "data": {
      "text/html": [
       "<div>\n",
       "<style scoped>\n",
       "    .dataframe tbody tr th:only-of-type {\n",
       "        vertical-align: middle;\n",
       "    }\n",
       "\n",
       "    .dataframe tbody tr th {\n",
       "        vertical-align: top;\n",
       "    }\n",
       "\n",
       "    .dataframe thead th {\n",
       "        text-align: right;\n",
       "    }\n",
       "</style>\n",
       "<table border=\"1\" class=\"dataframe\">\n",
       "  <thead>\n",
       "    <tr style=\"text-align: right;\">\n",
       "      <th></th>\n",
       "      <th>credit.policy</th>\n",
       "      <th>purpose</th>\n",
       "      <th>int.rate</th>\n",
       "      <th>installment</th>\n",
       "      <th>log.annual.inc</th>\n",
       "      <th>dti</th>\n",
       "      <th>fico</th>\n",
       "      <th>days.with.cr.line</th>\n",
       "      <th>revol.bal</th>\n",
       "      <th>revol.util</th>\n",
       "      <th>inq.last.6mths</th>\n",
       "      <th>delinq.2yrs</th>\n",
       "      <th>pub.rec</th>\n",
       "      <th>not.fully.paid</th>\n",
       "    </tr>\n",
       "  </thead>\n",
       "  <tbody>\n",
       "    <tr>\n",
       "      <th>0</th>\n",
       "      <td>1</td>\n",
       "      <td>debt_consolidation</td>\n",
       "      <td>0.1189</td>\n",
       "      <td>829.10</td>\n",
       "      <td>11.350407</td>\n",
       "      <td>19.48</td>\n",
       "      <td>737.0</td>\n",
       "      <td>5639.958333</td>\n",
       "      <td>28854.0</td>\n",
       "      <td>52.1</td>\n",
       "      <td>0.0</td>\n",
       "      <td>NaN</td>\n",
       "      <td>0.0</td>\n",
       "      <td>0</td>\n",
       "    </tr>\n",
       "    <tr>\n",
       "      <th>1</th>\n",
       "      <td>1</td>\n",
       "      <td>credit_card</td>\n",
       "      <td>0.1071</td>\n",
       "      <td>228.22</td>\n",
       "      <td>11.082143</td>\n",
       "      <td>14.29</td>\n",
       "      <td>707.0</td>\n",
       "      <td>2760.000000</td>\n",
       "      <td>33623.0</td>\n",
       "      <td>76.7</td>\n",
       "      <td>0.0</td>\n",
       "      <td>NaN</td>\n",
       "      <td>0.0</td>\n",
       "      <td>0</td>\n",
       "    </tr>\n",
       "    <tr>\n",
       "      <th>2</th>\n",
       "      <td>1</td>\n",
       "      <td>debt_consolidation</td>\n",
       "      <td>0.1357</td>\n",
       "      <td>366.86</td>\n",
       "      <td>10.373491</td>\n",
       "      <td>11.63</td>\n",
       "      <td>682.0</td>\n",
       "      <td>4710.000000</td>\n",
       "      <td>3511.0</td>\n",
       "      <td>NaN</td>\n",
       "      <td>1.0</td>\n",
       "      <td>NaN</td>\n",
       "      <td>NaN</td>\n",
       "      <td>0</td>\n",
       "    </tr>\n",
       "    <tr>\n",
       "      <th>3</th>\n",
       "      <td>1</td>\n",
       "      <td>debt_consolidation</td>\n",
       "      <td>0.1008</td>\n",
       "      <td>162.34</td>\n",
       "      <td>NaN</td>\n",
       "      <td>8.10</td>\n",
       "      <td>712.0</td>\n",
       "      <td>2699.958333</td>\n",
       "      <td>NaN</td>\n",
       "      <td>73.2</td>\n",
       "      <td>1.0</td>\n",
       "      <td>NaN</td>\n",
       "      <td>0.0</td>\n",
       "      <td>0</td>\n",
       "    </tr>\n",
       "    <tr>\n",
       "      <th>4</th>\n",
       "      <td>1</td>\n",
       "      <td>credit_card</td>\n",
       "      <td>0.1426</td>\n",
       "      <td>102.92</td>\n",
       "      <td>11.299732</td>\n",
       "      <td>14.97</td>\n",
       "      <td>NaN</td>\n",
       "      <td>4066.000000</td>\n",
       "      <td>4740.0</td>\n",
       "      <td>39.5</td>\n",
       "      <td>0.0</td>\n",
       "      <td>1.0</td>\n",
       "      <td>0.0</td>\n",
       "      <td>0</td>\n",
       "    </tr>\n",
       "  </tbody>\n",
       "</table>\n",
       "</div>"
      ],
      "text/plain": [
       "   credit.policy             purpose  int.rate  installment  log.annual.inc  \\\n",
       "0              1  debt_consolidation    0.1189       829.10       11.350407   \n",
       "1              1         credit_card    0.1071       228.22       11.082143   \n",
       "2              1  debt_consolidation    0.1357       366.86       10.373491   \n",
       "3              1  debt_consolidation    0.1008       162.34             NaN   \n",
       "4              1         credit_card    0.1426       102.92       11.299732   \n",
       "\n",
       "     dti   fico  days.with.cr.line  revol.bal  revol.util  inq.last.6mths  \\\n",
       "0  19.48  737.0        5639.958333    28854.0        52.1             0.0   \n",
       "1  14.29  707.0        2760.000000    33623.0        76.7             0.0   \n",
       "2  11.63  682.0        4710.000000     3511.0         NaN             1.0   \n",
       "3   8.10  712.0        2699.958333        NaN        73.2             1.0   \n",
       "4  14.97    NaN        4066.000000     4740.0        39.5             0.0   \n",
       "\n",
       "   delinq.2yrs  pub.rec  not.fully.paid  \n",
       "0          NaN      0.0               0  \n",
       "1          NaN      0.0               0  \n",
       "2          NaN      NaN               0  \n",
       "3          NaN      0.0               0  \n",
       "4          1.0      0.0               0  "
      ]
     },
     "execution_count": 111,
     "metadata": {},
     "output_type": "execute_result"
    }
   ],
   "source": [
    "loan.head()"
   ]
  },
  {
   "cell_type": "markdown",
   "metadata": {},
   "source": [
    "Check the missing values of features"
   ]
  },
  {
   "cell_type": "code",
   "execution_count": 112,
   "metadata": {},
   "outputs": [
    {
     "data": {
      "text/plain": [
       "credit.policy          0\n",
       "purpose                0\n",
       "int.rate              11\n",
       "installment           10\n",
       "log.annual.inc        15\n",
       "dti                    6\n",
       "fico                   8\n",
       "days.with.cr.line      9\n",
       "revol.bal             12\n",
       "revol.util            24\n",
       "inq.last.6mths         2\n",
       "delinq.2yrs          141\n",
       "pub.rec                7\n",
       "not.fully.paid         0\n",
       "dtype: int64"
      ]
     },
     "execution_count": 112,
     "metadata": {},
     "output_type": "execute_result"
    }
   ],
   "source": [
    "loan.isnull().sum()"
   ]
  },
  {
   "cell_type": "markdown",
   "metadata": {},
   "source": [
    "Check the size of the data"
   ]
  },
  {
   "cell_type": "code",
   "execution_count": 113,
   "metadata": {},
   "outputs": [
    {
     "data": {
      "text/plain": [
       "(9578, 14)"
      ]
     },
     "execution_count": 113,
     "metadata": {},
     "output_type": "execute_result"
    }
   ],
   "source": [
    "loan.shape"
   ]
  },
  {
   "cell_type": "code",
   "execution_count": 114,
   "metadata": {},
   "outputs": [
    {
     "data": {
      "text/plain": [
       "Index(['credit.policy', 'purpose', 'int.rate', 'installment', 'log.annual.inc',\n",
       "       'dti', 'fico', 'days.with.cr.line', 'revol.bal', 'revol.util',\n",
       "       'inq.last.6mths', 'delinq.2yrs', 'pub.rec', 'not.fully.paid'],\n",
       "      dtype='object')"
      ]
     },
     "execution_count": 114,
     "metadata": {},
     "output_type": "execute_result"
    }
   ],
   "source": [
    "loan.columns"
   ]
  },
  {
   "cell_type": "code",
   "execution_count": null,
   "metadata": {},
   "outputs": [],
   "source": [
    "Appareantly, the dataset is imbalance"
   ]
  },
  {
   "cell_type": "code",
   "execution_count": 115,
   "metadata": {},
   "outputs": [
    {
     "data": {
      "text/plain": [
       "not.fully.paid\n",
       "0    8045\n",
       "1    1533\n",
       "dtype: int64"
      ]
     },
     "execution_count": 115,
     "metadata": {},
     "output_type": "execute_result"
    }
   ],
   "source": [
    "loan.groupby('not.fully.paid').size()"
   ]
  },
  {
   "cell_type": "code",
   "execution_count": null,
   "metadata": {},
   "outputs": [],
   "source": []
  },
  {
   "cell_type": "markdown",
   "metadata": {},
   "source": [
    "Data correlation matrix The correlation matrix is an important tool to understand the correlation between the different characteristics. The values range from -1 to 1 and the closer a value is to 1 the bettere correlation there is between two characteristics. Let's calculate the correlation matrix for our dataset."
   ]
  },
  {
   "cell_type": "code",
   "execution_count": 116,
   "metadata": {},
   "outputs": [
    {
     "data": {
      "text/html": [
       "<div>\n",
       "<style scoped>\n",
       "    .dataframe tbody tr th:only-of-type {\n",
       "        vertical-align: middle;\n",
       "    }\n",
       "\n",
       "    .dataframe tbody tr th {\n",
       "        vertical-align: top;\n",
       "    }\n",
       "\n",
       "    .dataframe thead th {\n",
       "        text-align: right;\n",
       "    }\n",
       "</style>\n",
       "<table border=\"1\" class=\"dataframe\">\n",
       "  <thead>\n",
       "    <tr style=\"text-align: right;\">\n",
       "      <th></th>\n",
       "      <th>credit.policy</th>\n",
       "      <th>int.rate</th>\n",
       "      <th>installment</th>\n",
       "      <th>log.annual.inc</th>\n",
       "      <th>dti</th>\n",
       "      <th>fico</th>\n",
       "      <th>days.with.cr.line</th>\n",
       "      <th>revol.bal</th>\n",
       "      <th>revol.util</th>\n",
       "      <th>inq.last.6mths</th>\n",
       "      <th>delinq.2yrs</th>\n",
       "      <th>pub.rec</th>\n",
       "      <th>not.fully.paid</th>\n",
       "    </tr>\n",
       "  </thead>\n",
       "  <tbody>\n",
       "    <tr>\n",
       "      <th>credit.policy</th>\n",
       "      <td>1.000000</td>\n",
       "      <td>-0.293710</td>\n",
       "      <td>0.058222</td>\n",
       "      <td>0.034743</td>\n",
       "      <td>-0.091217</td>\n",
       "      <td>0.348287</td>\n",
       "      <td>0.099649</td>\n",
       "      <td>-0.187800</td>\n",
       "      <td>-0.104299</td>\n",
       "      <td>-0.535241</td>\n",
       "      <td>-0.079615</td>\n",
       "      <td>-0.054164</td>\n",
       "      <td>-0.158119</td>\n",
       "    </tr>\n",
       "    <tr>\n",
       "      <th>int.rate</th>\n",
       "      <td>-0.293710</td>\n",
       "      <td>1.000000</td>\n",
       "      <td>0.276177</td>\n",
       "      <td>0.055678</td>\n",
       "      <td>0.220596</td>\n",
       "      <td>-0.715120</td>\n",
       "      <td>-0.124672</td>\n",
       "      <td>0.092854</td>\n",
       "      <td>0.465914</td>\n",
       "      <td>0.202264</td>\n",
       "      <td>0.157732</td>\n",
       "      <td>0.097980</td>\n",
       "      <td>0.159363</td>\n",
       "    </tr>\n",
       "    <tr>\n",
       "      <th>installment</th>\n",
       "      <td>0.058222</td>\n",
       "      <td>0.276177</td>\n",
       "      <td>1.000000</td>\n",
       "      <td>0.448057</td>\n",
       "      <td>0.050474</td>\n",
       "      <td>0.085199</td>\n",
       "      <td>0.183013</td>\n",
       "      <td>0.234313</td>\n",
       "      <td>0.082077</td>\n",
       "      <td>-0.010026</td>\n",
       "      <td>-0.005139</td>\n",
       "      <td>-0.032740</td>\n",
       "      <td>0.050034</td>\n",
       "    </tr>\n",
       "    <tr>\n",
       "      <th>log.annual.inc</th>\n",
       "      <td>0.034743</td>\n",
       "      <td>0.055678</td>\n",
       "      <td>0.448057</td>\n",
       "      <td>1.000000</td>\n",
       "      <td>-0.053848</td>\n",
       "      <td>0.114605</td>\n",
       "      <td>0.337941</td>\n",
       "      <td>0.372028</td>\n",
       "      <td>0.053639</td>\n",
       "      <td>0.029235</td>\n",
       "      <td>0.029439</td>\n",
       "      <td>0.016746</td>\n",
       "      <td>-0.033453</td>\n",
       "    </tr>\n",
       "    <tr>\n",
       "      <th>dti</th>\n",
       "      <td>-0.091217</td>\n",
       "      <td>0.220596</td>\n",
       "      <td>0.050474</td>\n",
       "      <td>-0.053848</td>\n",
       "      <td>1.000000</td>\n",
       "      <td>-0.241205</td>\n",
       "      <td>0.060211</td>\n",
       "      <td>0.188702</td>\n",
       "      <td>0.336958</td>\n",
       "      <td>0.028785</td>\n",
       "      <td>-0.022514</td>\n",
       "      <td>0.006180</td>\n",
       "      <td>0.037333</td>\n",
       "    </tr>\n",
       "    <tr>\n",
       "      <th>fico</th>\n",
       "      <td>0.348287</td>\n",
       "      <td>-0.715120</td>\n",
       "      <td>0.085199</td>\n",
       "      <td>0.114605</td>\n",
       "      <td>-0.241205</td>\n",
       "      <td>1.000000</td>\n",
       "      <td>0.264385</td>\n",
       "      <td>-0.015506</td>\n",
       "      <td>-0.542802</td>\n",
       "      <td>-0.185091</td>\n",
       "      <td>-0.218097</td>\n",
       "      <td>-0.147622</td>\n",
       "      <td>-0.149698</td>\n",
       "    </tr>\n",
       "    <tr>\n",
       "      <th>days.with.cr.line</th>\n",
       "      <td>0.099649</td>\n",
       "      <td>-0.124672</td>\n",
       "      <td>0.183013</td>\n",
       "      <td>0.337941</td>\n",
       "      <td>0.060211</td>\n",
       "      <td>0.264385</td>\n",
       "      <td>1.000000</td>\n",
       "      <td>0.229608</td>\n",
       "      <td>-0.023413</td>\n",
       "      <td>-0.041967</td>\n",
       "      <td>0.081777</td>\n",
       "      <td>0.071914</td>\n",
       "      <td>-0.029389</td>\n",
       "    </tr>\n",
       "    <tr>\n",
       "      <th>revol.bal</th>\n",
       "      <td>-0.187800</td>\n",
       "      <td>0.092854</td>\n",
       "      <td>0.234313</td>\n",
       "      <td>0.372028</td>\n",
       "      <td>0.188702</td>\n",
       "      <td>-0.015506</td>\n",
       "      <td>0.229608</td>\n",
       "      <td>1.000000</td>\n",
       "      <td>0.204114</td>\n",
       "      <td>0.022772</td>\n",
       "      <td>-0.033096</td>\n",
       "      <td>-0.031014</td>\n",
       "      <td>0.054009</td>\n",
       "    </tr>\n",
       "    <tr>\n",
       "      <th>revol.util</th>\n",
       "      <td>-0.104299</td>\n",
       "      <td>0.465914</td>\n",
       "      <td>0.082077</td>\n",
       "      <td>0.053639</td>\n",
       "      <td>0.336958</td>\n",
       "      <td>-0.542802</td>\n",
       "      <td>-0.023413</td>\n",
       "      <td>0.204114</td>\n",
       "      <td>1.000000</td>\n",
       "      <td>-0.013929</td>\n",
       "      <td>-0.042029</td>\n",
       "      <td>0.065607</td>\n",
       "      <td>0.082621</td>\n",
       "    </tr>\n",
       "    <tr>\n",
       "      <th>inq.last.6mths</th>\n",
       "      <td>-0.535241</td>\n",
       "      <td>0.202264</td>\n",
       "      <td>-0.010026</td>\n",
       "      <td>0.029235</td>\n",
       "      <td>0.028785</td>\n",
       "      <td>-0.185091</td>\n",
       "      <td>-0.041967</td>\n",
       "      <td>0.022772</td>\n",
       "      <td>-0.013929</td>\n",
       "      <td>1.000000</td>\n",
       "      <td>0.022816</td>\n",
       "      <td>0.072792</td>\n",
       "      <td>0.148851</td>\n",
       "    </tr>\n",
       "    <tr>\n",
       "      <th>delinq.2yrs</th>\n",
       "      <td>-0.079615</td>\n",
       "      <td>0.157732</td>\n",
       "      <td>-0.005139</td>\n",
       "      <td>0.029439</td>\n",
       "      <td>-0.022514</td>\n",
       "      <td>-0.218097</td>\n",
       "      <td>0.081777</td>\n",
       "      <td>-0.033096</td>\n",
       "      <td>-0.042029</td>\n",
       "      <td>0.022816</td>\n",
       "      <td>1.000000</td>\n",
       "      <td>0.009878</td>\n",
       "      <td>0.009802</td>\n",
       "    </tr>\n",
       "    <tr>\n",
       "      <th>pub.rec</th>\n",
       "      <td>-0.054164</td>\n",
       "      <td>0.097980</td>\n",
       "      <td>-0.032740</td>\n",
       "      <td>0.016746</td>\n",
       "      <td>0.006180</td>\n",
       "      <td>-0.147622</td>\n",
       "      <td>0.071914</td>\n",
       "      <td>-0.031014</td>\n",
       "      <td>0.065607</td>\n",
       "      <td>0.072792</td>\n",
       "      <td>0.009878</td>\n",
       "      <td>1.000000</td>\n",
       "      <td>0.048724</td>\n",
       "    </tr>\n",
       "    <tr>\n",
       "      <th>not.fully.paid</th>\n",
       "      <td>-0.158119</td>\n",
       "      <td>0.159363</td>\n",
       "      <td>0.050034</td>\n",
       "      <td>-0.033453</td>\n",
       "      <td>0.037333</td>\n",
       "      <td>-0.149698</td>\n",
       "      <td>-0.029389</td>\n",
       "      <td>0.054009</td>\n",
       "      <td>0.082621</td>\n",
       "      <td>0.148851</td>\n",
       "      <td>0.009802</td>\n",
       "      <td>0.048724</td>\n",
       "      <td>1.000000</td>\n",
       "    </tr>\n",
       "  </tbody>\n",
       "</table>\n",
       "</div>"
      ],
      "text/plain": [
       "                   credit.policy  int.rate  installment  log.annual.inc  \\\n",
       "credit.policy           1.000000 -0.293710     0.058222        0.034743   \n",
       "int.rate               -0.293710  1.000000     0.276177        0.055678   \n",
       "installment             0.058222  0.276177     1.000000        0.448057   \n",
       "log.annual.inc          0.034743  0.055678     0.448057        1.000000   \n",
       "dti                    -0.091217  0.220596     0.050474       -0.053848   \n",
       "fico                    0.348287 -0.715120     0.085199        0.114605   \n",
       "days.with.cr.line       0.099649 -0.124672     0.183013        0.337941   \n",
       "revol.bal              -0.187800  0.092854     0.234313        0.372028   \n",
       "revol.util             -0.104299  0.465914     0.082077        0.053639   \n",
       "inq.last.6mths         -0.535241  0.202264    -0.010026        0.029235   \n",
       "delinq.2yrs            -0.079615  0.157732    -0.005139        0.029439   \n",
       "pub.rec                -0.054164  0.097980    -0.032740        0.016746   \n",
       "not.fully.paid         -0.158119  0.159363     0.050034       -0.033453   \n",
       "\n",
       "                        dti      fico  days.with.cr.line  revol.bal  \\\n",
       "credit.policy     -0.091217  0.348287           0.099649  -0.187800   \n",
       "int.rate           0.220596 -0.715120          -0.124672   0.092854   \n",
       "installment        0.050474  0.085199           0.183013   0.234313   \n",
       "log.annual.inc    -0.053848  0.114605           0.337941   0.372028   \n",
       "dti                1.000000 -0.241205           0.060211   0.188702   \n",
       "fico              -0.241205  1.000000           0.264385  -0.015506   \n",
       "days.with.cr.line  0.060211  0.264385           1.000000   0.229608   \n",
       "revol.bal          0.188702 -0.015506           0.229608   1.000000   \n",
       "revol.util         0.336958 -0.542802          -0.023413   0.204114   \n",
       "inq.last.6mths     0.028785 -0.185091          -0.041967   0.022772   \n",
       "delinq.2yrs       -0.022514 -0.218097           0.081777  -0.033096   \n",
       "pub.rec            0.006180 -0.147622           0.071914  -0.031014   \n",
       "not.fully.paid     0.037333 -0.149698          -0.029389   0.054009   \n",
       "\n",
       "                   revol.util  inq.last.6mths  delinq.2yrs   pub.rec  \\\n",
       "credit.policy       -0.104299       -0.535241    -0.079615 -0.054164   \n",
       "int.rate             0.465914        0.202264     0.157732  0.097980   \n",
       "installment          0.082077       -0.010026    -0.005139 -0.032740   \n",
       "log.annual.inc       0.053639        0.029235     0.029439  0.016746   \n",
       "dti                  0.336958        0.028785    -0.022514  0.006180   \n",
       "fico                -0.542802       -0.185091    -0.218097 -0.147622   \n",
       "days.with.cr.line   -0.023413       -0.041967     0.081777  0.071914   \n",
       "revol.bal            0.204114        0.022772    -0.033096 -0.031014   \n",
       "revol.util           1.000000       -0.013929    -0.042029  0.065607   \n",
       "inq.last.6mths      -0.013929        1.000000     0.022816  0.072792   \n",
       "delinq.2yrs         -0.042029        0.022816     1.000000  0.009878   \n",
       "pub.rec              0.065607        0.072792     0.009878  1.000000   \n",
       "not.fully.paid       0.082621        0.148851     0.009802  0.048724   \n",
       "\n",
       "                   not.fully.paid  \n",
       "credit.policy           -0.158119  \n",
       "int.rate                 0.159363  \n",
       "installment              0.050034  \n",
       "log.annual.inc          -0.033453  \n",
       "dti                      0.037333  \n",
       "fico                    -0.149698  \n",
       "days.with.cr.line       -0.029389  \n",
       "revol.bal                0.054009  \n",
       "revol.util               0.082621  \n",
       "inq.last.6mths           0.148851  \n",
       "delinq.2yrs              0.009802  \n",
       "pub.rec                  0.048724  \n",
       "not.fully.paid           1.000000  "
      ]
     },
     "execution_count": 116,
     "metadata": {},
     "output_type": "execute_result"
    }
   ],
   "source": [
    "corr = loan.corr()\n",
    "corr"
   ]
  },
  {
   "cell_type": "code",
   "execution_count": 117,
   "metadata": {},
   "outputs": [
    {
     "data": {
      "text/plain": [
       "not.fully.paid\n",
       "0    [[AxesSubplot(0.125,0.725918;0.215278x0.154082...\n",
       "1    [[AxesSubplot(0.125,0.725918;0.215278x0.154082...\n",
       "dtype: object"
      ]
     },
     "execution_count": 117,
     "metadata": {},
     "output_type": "execute_result"
    },
    {
     "data": {
      "image/png": "[encoded data removed]",
      "text/plain": [
       "<Figure size 648x648 with 12 Axes>"
      ]
     },
     "metadata": {
      "needs_background": "light"
     },
     "output_type": "display_data"
    },
    {
     "data": {
      "image/png": "[encoded data removed]",
      "text/plain": [
       "<Figure size 648x648 with 12 Axes>"
      ]
     },
     "metadata": {
      "needs_background": "light"
     },
     "output_type": "display_data"
    }
   ],
   "source": [
    "loan.groupby('not.fully.paid').hist(figsize=(9, 9))"
   ]
  },
  {
   "cell_type": "code",
   "execution_count": null,
   "metadata": {},
   "outputs": [],
   "source": []
  },
  {
   "cell_type": "code",
   "execution_count": 118,
   "metadata": {},
   "outputs": [
    {
     "data": {
      "text/plain": [
       "credit.policy          0\n",
       "purpose                0\n",
       "int.rate              11\n",
       "installment           10\n",
       "log.annual.inc        15\n",
       "dti                    6\n",
       "fico                   8\n",
       "days.with.cr.line      9\n",
       "revol.bal             12\n",
       "revol.util            24\n",
       "inq.last.6mths         2\n",
       "delinq.2yrs          141\n",
       "pub.rec                7\n",
       "not.fully.paid         0\n",
       "dtype: int64"
      ]
     },
     "execution_count": 118,
     "metadata": {},
     "output_type": "execute_result"
    }
   ],
   "source": [
    "loan.isnull().sum()"
   ]
  },
  {
   "cell_type": "code",
   "execution_count": 119,
   "metadata": {},
   "outputs": [],
   "source": [
    "# select the columns where missing values and locate the zeros as a mask\n",
    "mask = loan[['int.rate', 'installment', 'log.annual.inc', 'dti','fico', 'days.with.cr.line',\n",
    "             'revol.bal','revol.util','inq.last.6mths','delinq.2yrs','pub.rec']] == 0"
   ]
  },
  {
   "cell_type": "code",
   "execution_count": 120,
   "metadata": {},
   "outputs": [
    {
     "data": {
      "text/html": [
       "<div>\n",
       "<style scoped>\n",
       "    .dataframe tbody tr th:only-of-type {\n",
       "        vertical-align: middle;\n",
       "    }\n",
       "\n",
       "    .dataframe tbody tr th {\n",
       "        vertical-align: top;\n",
       "    }\n",
       "\n",
       "    .dataframe thead th {\n",
       "        text-align: right;\n",
       "    }\n",
       "</style>\n",
       "<table border=\"1\" class=\"dataframe\">\n",
       "  <thead>\n",
       "    <tr style=\"text-align: right;\">\n",
       "      <th></th>\n",
       "      <th>credit.policy</th>\n",
       "      <th>purpose</th>\n",
       "      <th>int.rate</th>\n",
       "      <th>installment</th>\n",
       "      <th>log.annual.inc</th>\n",
       "      <th>dti</th>\n",
       "      <th>fico</th>\n",
       "      <th>days.with.cr.line</th>\n",
       "      <th>revol.bal</th>\n",
       "      <th>revol.util</th>\n",
       "      <th>inq.last.6mths</th>\n",
       "      <th>delinq.2yrs</th>\n",
       "      <th>pub.rec</th>\n",
       "      <th>not.fully.paid</th>\n",
       "    </tr>\n",
       "  </thead>\n",
       "  <tbody>\n",
       "    <tr>\n",
       "      <th>0</th>\n",
       "      <td>1</td>\n",
       "      <td>debt_consolidation</td>\n",
       "      <td>0.1189</td>\n",
       "      <td>829.10</td>\n",
       "      <td>11.350407</td>\n",
       "      <td>19.48</td>\n",
       "      <td>737.0</td>\n",
       "      <td>5639.958333</td>\n",
       "      <td>28854.0</td>\n",
       "      <td>52.1</td>\n",
       "      <td>NaN</td>\n",
       "      <td>NaN</td>\n",
       "      <td>NaN</td>\n",
       "      <td>0</td>\n",
       "    </tr>\n",
       "    <tr>\n",
       "      <th>1</th>\n",
       "      <td>1</td>\n",
       "      <td>credit_card</td>\n",
       "      <td>0.1071</td>\n",
       "      <td>228.22</td>\n",
       "      <td>11.082143</td>\n",
       "      <td>14.29</td>\n",
       "      <td>707.0</td>\n",
       "      <td>2760.000000</td>\n",
       "      <td>33623.0</td>\n",
       "      <td>76.7</td>\n",
       "      <td>NaN</td>\n",
       "      <td>NaN</td>\n",
       "      <td>NaN</td>\n",
       "      <td>0</td>\n",
       "    </tr>\n",
       "    <tr>\n",
       "      <th>2</th>\n",
       "      <td>1</td>\n",
       "      <td>debt_consolidation</td>\n",
       "      <td>0.1357</td>\n",
       "      <td>366.86</td>\n",
       "      <td>10.373491</td>\n",
       "      <td>11.63</td>\n",
       "      <td>682.0</td>\n",
       "      <td>4710.000000</td>\n",
       "      <td>3511.0</td>\n",
       "      <td>NaN</td>\n",
       "      <td>1.0</td>\n",
       "      <td>NaN</td>\n",
       "      <td>NaN</td>\n",
       "      <td>0</td>\n",
       "    </tr>\n",
       "    <tr>\n",
       "      <th>3</th>\n",
       "      <td>1</td>\n",
       "      <td>debt_consolidation</td>\n",
       "      <td>0.1008</td>\n",
       "      <td>162.34</td>\n",
       "      <td>NaN</td>\n",
       "      <td>8.10</td>\n",
       "      <td>712.0</td>\n",
       "      <td>2699.958333</td>\n",
       "      <td>NaN</td>\n",
       "      <td>73.2</td>\n",
       "      <td>1.0</td>\n",
       "      <td>NaN</td>\n",
       "      <td>NaN</td>\n",
       "      <td>0</td>\n",
       "    </tr>\n",
       "    <tr>\n",
       "      <th>4</th>\n",
       "      <td>1</td>\n",
       "      <td>credit_card</td>\n",
       "      <td>0.1426</td>\n",
       "      <td>102.92</td>\n",
       "      <td>11.299732</td>\n",
       "      <td>14.97</td>\n",
       "      <td>NaN</td>\n",
       "      <td>4066.000000</td>\n",
       "      <td>4740.0</td>\n",
       "      <td>39.5</td>\n",
       "      <td>NaN</td>\n",
       "      <td>1.0</td>\n",
       "      <td>NaN</td>\n",
       "      <td>0</td>\n",
       "    </tr>\n",
       "  </tbody>\n",
       "</table>\n",
       "</div>"
      ],
      "text/plain": [
       "   credit.policy             purpose  int.rate  installment  log.annual.inc  \\\n",
       "0              1  debt_consolidation    0.1189       829.10       11.350407   \n",
       "1              1         credit_card    0.1071       228.22       11.082143   \n",
       "2              1  debt_consolidation    0.1357       366.86       10.373491   \n",
       "3              1  debt_consolidation    0.1008       162.34             NaN   \n",
       "4              1         credit_card    0.1426       102.92       11.299732   \n",
       "\n",
       "     dti   fico  days.with.cr.line  revol.bal  revol.util  inq.last.6mths  \\\n",
       "0  19.48  737.0        5639.958333    28854.0        52.1             NaN   \n",
       "1  14.29  707.0        2760.000000    33623.0        76.7             NaN   \n",
       "2  11.63  682.0        4710.000000     3511.0         NaN             1.0   \n",
       "3   8.10  712.0        2699.958333        NaN        73.2             1.0   \n",
       "4  14.97    NaN        4066.000000     4740.0        39.5             NaN   \n",
       "\n",
       "   delinq.2yrs  pub.rec  not.fully.paid  \n",
       "0          NaN      NaN               0  \n",
       "1          NaN      NaN               0  \n",
       "2          NaN      NaN               0  \n",
       "3          NaN      NaN               0  \n",
       "4          1.0      NaN               0  "
      ]
     },
     "execution_count": 120,
     "metadata": {},
     "output_type": "execute_result"
    }
   ],
   "source": [
    "# replace the zeros with np.nan \n",
    "loan[mask] = np.nan\n",
    "loan.head(5)"
   ]
  },
  {
   "cell_type": "code",
   "execution_count": 121,
   "metadata": {},
   "outputs": [
    {
     "data": {
      "text/plain": [
       "credit.policy            0.804970\n",
       "int.rate                 0.122635\n",
       "installment            319.023501\n",
       "log.annual.inc          10.932103\n",
       "dti                     12.725554\n",
       "fico                   710.845873\n",
       "days.with.cr.line     4560.281978\n",
       "revol.bal            17504.676436\n",
       "revol.util              48.282339\n",
       "inq.last.6mths           2.542516\n",
       "delinq.2yrs              1.400000\n",
       "pub.rec                  1.064401\n",
       "not.fully.paid           0.160054\n",
       "dtype: float64"
      ]
     },
     "execution_count": 121,
     "metadata": {},
     "output_type": "execute_result"
    }
   ],
   "source": [
    "loan.mean()"
   ]
  },
  {
   "cell_type": "code",
   "execution_count": 122,
   "metadata": {},
   "outputs": [
    {
     "data": {
      "text/plain": [
       "credit.policy           1.000000\n",
       "int.rate                0.122100\n",
       "installment           268.950000\n",
       "log.annual.inc         10.928238\n",
       "dti                    12.760000\n",
       "fico                  707.000000\n",
       "days.with.cr.line    4139.958333\n",
       "revol.bal            8989.000000\n",
       "revol.util             47.800000\n",
       "inq.last.6mths          2.000000\n",
       "delinq.2yrs             1.000000\n",
       "pub.rec                 1.000000\n",
       "not.fully.paid          0.000000\n",
       "dtype: float64"
      ]
     },
     "execution_count": 122,
     "metadata": {},
     "output_type": "execute_result"
    }
   ],
   "source": [
    "loan.median()"
   ]
  },
  {
   "cell_type": "markdown",
   "metadata": {},
   "source": [
    "# Exploratory Data Analysis"
   ]
  },
  {
   "cell_type": "code",
   "execution_count": 123,
   "metadata": {},
   "outputs": [
    {
     "data": {
      "text/plain": [
       "<matplotlib.axes._subplots.AxesSubplot at 0x1a2495b780>"
      ]
     },
     "execution_count": 123,
     "metadata": {},
     "output_type": "execute_result"
    },
    {
     "data": {
      "image/png": "[encoded data removed]",
      "text/plain": [
       "<Figure size 432x288 with 1 Axes>"
      ]
     },
     "metadata": {
      "needs_background": "light"
     },
     "output_type": "display_data"
    }
   ],
   "source": [
    "sns.boxplot(x=loan[\"not.fully.paid\"], y=loan[\"int.rate\"])"
   ]
  },
  {
   "cell_type": "code",
   "execution_count": 124,
   "metadata": {},
   "outputs": [
    {
     "data": {
      "text/plain": [
       "<matplotlib.axes._subplots.AxesSubplot at 0x1a225d9c18>"
      ]
     },
     "execution_count": 124,
     "metadata": {},
     "output_type": "execute_result"
    },
    {
     "data": {
      "image/png": "[encoded data removed]",
      "text/plain": [
       "<Figure size 432x288 with 1 Axes>"
      ]
     },
     "metadata": {
      "needs_background": "light"
     },
     "output_type": "display_data"
    }
   ],
   "source": [
    "sns.boxplot(x=loan[\"not.fully.paid\"], y=loan[\"fico\"])"
   ]
  },
  {
   "cell_type": "markdown",
   "metadata": {},
   "source": [
    "** Create a countplot using seaborn showing the counts of loans by purpose, with the color hue defined by not.fully.paid. **"
   ]
  },
  {
   "cell_type": "code",
   "execution_count": 125,
   "metadata": {},
   "outputs": [
    {
     "data": {
      "text/plain": [
       "<seaborn.axisgrid.JointGrid at 0x1a24a67320>"
      ]
     },
     "execution_count": 125,
     "metadata": {},
     "output_type": "execute_result"
    },
    {
     "data": {
      "image/png": "[encoded data removed]",
      "text/plain": [
       "<Figure size 432x432 with 3 Axes>"
      ]
     },
     "metadata": {
      "needs_background": "light"
     },
     "output_type": "display_data"
    }
   ],
   "source": [
    "sns.jointplot(x='fico',y='int.rate',data=loan, color='green')"
   ]
  },
  {
   "cell_type": "code",
   "execution_count": 126,
   "metadata": {},
   "outputs": [],
   "source": [
    "# Calculate the median value \n",
    "# Substitute it in the column of the dataset where values are NaN\n",
    "median_int_rate = loan['int.rate'].median()\n",
    "loan['int.rate'] = loan['int.rate'].replace(to_replace=np.nan, value=median_int_rate)"
   ]
  },
  {
   "cell_type": "code",
   "execution_count": 127,
   "metadata": {},
   "outputs": [],
   "source": [
    "median_installment = loan['installment'].median()\n",
    "loan['installment'] = loan['installment'].replace(to_replace=np.nan, value=median_installment)"
   ]
  },
  {
   "cell_type": "code",
   "execution_count": 128,
   "metadata": {},
   "outputs": [],
   "source": [
    "median_LAI = loan['log.annual.inc'].median()\n",
    "loan['log.annual.inc'] = loan['log.annual.inc'].replace(to_replace=np.nan, value=median_LAI)"
   ]
  },
  {
   "cell_type": "code",
   "execution_count": 129,
   "metadata": {},
   "outputs": [],
   "source": [
    "median_dti = loan['dti'].median()\n",
    "loan['dti'] = loan['dti'].replace(to_replace=np.nan, value=median_dti)"
   ]
  },
  {
   "cell_type": "code",
   "execution_count": 130,
   "metadata": {},
   "outputs": [],
   "source": [
    "median_fico = loan['fico'].median()\n",
    "loan['fico'] = loan['fico'].replace(to_replace=np.nan, value=median_fico)"
   ]
  },
  {
   "cell_type": "code",
   "execution_count": 131,
   "metadata": {},
   "outputs": [],
   "source": [
    "median_days = loan['days.with.cr.line'].median()\n",
    "loan['days.with.cr.line'] = loan['days.with.cr.line'].replace(to_replace=np.nan, value=median_days)"
   ]
  },
  {
   "cell_type": "code",
   "execution_count": 132,
   "metadata": {},
   "outputs": [],
   "source": [
    "median_bal = loan['revol.bal'].median()\n",
    "loan['revol.bal'] = loan['revol.bal'].replace(to_replace=np.nan, value=median_bal)"
   ]
  },
  {
   "cell_type": "code",
   "execution_count": 133,
   "metadata": {},
   "outputs": [],
   "source": [
    "median_util = loan['revol.util'].median()\n",
    "loan['revol.util'] = loan['revol.util'].replace(to_replace=np.nan, value=median_util)"
   ]
  },
  {
   "cell_type": "code",
   "execution_count": 134,
   "metadata": {},
   "outputs": [],
   "source": [
    "median_6mths = loan['inq.last.6mths'].median()\n",
    "loan['inq.last.6mths'] = loan['inq.last.6mths'].replace(to_replace=np.nan, value=median_6mths)"
   ]
  },
  {
   "cell_type": "code",
   "execution_count": 135,
   "metadata": {},
   "outputs": [],
   "source": [
    "median_delinq = loan['delinq.2yrs'].median()\n",
    "loan['delinq.2yrs'] = loan['delinq.2yrs'].replace(to_replace=np.nan, value=median_delinq)"
   ]
  },
  {
   "cell_type": "code",
   "execution_count": 136,
   "metadata": {},
   "outputs": [],
   "source": [
    "median_pub = loan['pub.rec'].median()\n",
    "loan['pub.rec'] = loan['pub.rec'].replace(to_replace=np.nan, value=median_pub)"
   ]
  },
  {
   "cell_type": "code",
   "execution_count": 137,
   "metadata": {},
   "outputs": [
    {
     "data": {
      "text/plain": [
       "0    8045\n",
       "1    1533\n",
       "Name: not.fully.paid, dtype: int64"
      ]
     },
     "execution_count": 137,
     "metadata": {},
     "output_type": "execute_result"
    }
   ],
   "source": [
    "loan['not.fully.paid'].value_counts()"
   ]
  },
  {
   "cell_type": "markdown",
   "metadata": {},
   "source": [
    "# Feature Engineering"
   ]
  },
  {
   "cell_type": "code",
   "execution_count": 138,
   "metadata": {},
   "outputs": [
    {
     "data": {
      "text/plain": [
       "Index(['credit.policy', 'purpose', 'int.rate', 'installment', 'log.annual.inc',\n",
       "       'dti', 'fico', 'days.with.cr.line', 'revol.bal', 'revol.util',\n",
       "       'inq.last.6mths', 'delinq.2yrs', 'pub.rec', 'not.fully.paid'],\n",
       "      dtype='object')"
      ]
     },
     "execution_count": 138,
     "metadata": {},
     "output_type": "execute_result"
    }
   ],
   "source": [
    "loan.columns"
   ]
  },
  {
   "cell_type": "code",
   "execution_count": 139,
   "metadata": {},
   "outputs": [],
   "source": [
    "#y is the valuable we are looking for \n",
    "feature_names = ['credit.policy', 'int.rate', 'installment', 'log.annual.inc',\n",
    "                 'dti', 'fico', 'days.with.cr.line', 'revol.bal', 'revol.util',\n",
    "                 'inq.last.6mths', 'delinq.2yrs', 'pub.rec']\n",
    "X = loan[feature_names].values\n",
    "y = loan['not.fully.paid'].values"
   ]
  },
  {
   "cell_type": "markdown",
   "metadata": {},
   "source": [
    "# Split data into train and test sets"
   ]
  },
  {
   "cell_type": "code",
   "execution_count": 140,
   "metadata": {},
   "outputs": [],
   "source": [
    "# split dataset into test/train in 80% /20%\n",
    "# random_state shuffle the same way everytime\n",
    "X_train, X_test, y_train, y_test = train_test_split(X, y, random_state=35, test_size=0.2)"
   ]
  },
  {
   "cell_type": "code",
   "execution_count": 141,
   "metadata": {},
   "outputs": [
    {
     "data": {
      "text/plain": [
       "((7662, 12), (1916, 12))"
      ]
     },
     "execution_count": 141,
     "metadata": {},
     "output_type": "execute_result"
    }
   ],
   "source": [
    "X_train.shape, X_test.shape"
   ]
  },
  {
   "cell_type": "markdown",
   "metadata": {},
   "source": [
    "# Standardize the data"
   ]
  },
  {
   "cell_type": "code",
   "execution_count": 142,
   "metadata": {},
   "outputs": [],
   "source": [
    "# scale/standardize features\n",
    "#why we don't call fit on test data? \n",
    "# fit_transform - fit get the mean of the std for this dataset. Transform - take the mean and calculate the value  \n",
    "stdsc = StandardScaler()\n",
    "X_train_std = stdsc.fit_transform(X_train)\n",
    "X_test_std = stdsc.transform(X_test) "
   ]
  },
  {
   "cell_type": "code",
   "execution_count": 143,
   "metadata": {},
   "outputs": [
    {
     "data": {
      "text/plain": [
       "array([[0.00000000e+00, 1.28700000e-01, 6.72670000e+02, 1.16082356e+01,\n",
       "        2.34000000e+01, 7.17000000e+02, 5.43000000e+03, 1.22620000e+05,\n",
       "        4.78000000e+01, 2.00000000e+00, 1.00000000e+00, 1.00000000e+00],\n",
       "       [0.00000000e+00, 8.38000000e-02, 1.57600000e+01, 1.04042628e+01,\n",
       "        2.15000000e+00, 7.17000000e+02, 6.35900000e+03, 3.46100000e+03,\n",
       "        1.86000000e+01, 1.00000000e+01, 1.00000000e+00, 1.00000000e+00],\n",
       "       [1.00000000e+00, 7.74000000e-02, 3.12190000e+02, 1.07789563e+01,\n",
       "        2.38000000e+00, 7.97000000e+02, 5.40000000e+03, 4.65000000e+03,\n",
       "        1.41000000e+01, 2.00000000e+00, 1.00000000e+00, 1.00000000e+00],\n",
       "       [1.00000000e+00, 1.28400000e-01, 4.30310000e+02, 1.10020998e+01,\n",
       "        1.16200000e+01, 6.97000000e+02, 2.16000000e+03, 1.39570000e+04,\n",
       "        4.61000000e+01, 2.00000000e+00, 1.00000000e+00, 1.00000000e+00],\n",
       "       [0.00000000e+00, 1.09900000e-01, 4.25560000e+02, 1.15711944e+01,\n",
       "        1.63600000e+01, 7.22000000e+02, 7.50004167e+03, 2.23540000e+04,\n",
       "        6.56000000e+01, 4.00000000e+00, 1.00000000e+00, 1.00000000e+00]])"
      ]
     },
     "execution_count": 143,
     "metadata": {},
     "output_type": "execute_result"
    }
   ],
   "source": [
    "X_train[:5]"
   ]
  },
  {
   "cell_type": "code",
   "execution_count": 144,
   "metadata": {},
   "outputs": [
    {
     "data": {
      "text/plain": [
       "array([[-2.0420677 ,  0.22778317,  1.70353581,  1.0941218 ,  1.57090349,\n",
       "         0.16553278,  0.34509987,  3.11988255, -0.0191254 , -0.1832118 ,\n",
       "        -0.13761748, -0.04584713],\n",
       "       [-2.0420677 , -1.45490233, -1.46687556, -0.87253306, -1.56777671,\n",
       "         0.16553278,  0.71763172, -0.40751569, -1.07414142,  4.11623323,\n",
       "        -0.13761748, -0.04584713],\n",
       "       [ 0.48969973, -1.6947506 , -0.03623051, -0.26048211, -1.53380511,\n",
       "         2.27630813,  0.33306977, -0.37231837, -1.2367295 , -0.1832118 ,\n",
       "        -0.13761748, -0.04584713],\n",
       "       [ 0.48969973,  0.21654028,  0.53384605,  0.10401645, -0.16903311,\n",
       "        -0.36216106, -0.96618019, -0.09680838, -0.08054757, -0.1832118 ,\n",
       "        -0.13761748, -0.04584713],\n",
       "       [-2.0420677 , -0.47677111,  0.51092137,  1.03361595,  0.5310772 ,\n",
       "         0.29745624,  1.17519294,  0.15176338,  0.6240008 ,  0.89164946,\n",
       "        -0.13761748, -0.04584713]])"
      ]
     },
     "execution_count": 144,
     "metadata": {},
     "output_type": "execute_result"
    }
   ],
   "source": [
    "X_train_std[:5]"
   ]
  },
  {
   "cell_type": "markdown",
   "metadata": {},
   "source": [
    "# SVM Classifier"
   ]
  },
  {
   "cell_type": "code",
   "execution_count": 145,
   "metadata": {},
   "outputs": [
    {
     "data": {
      "text/plain": [
       "0.8350730688935282"
      ]
     },
     "execution_count": 145,
     "metadata": {},
     "output_type": "execute_result"
    }
   ],
   "source": [
    "svm = SVC(kernel='linear')\n",
    "svm.fit(X_train_std, y_train)\n",
    "pred_svm = svm.predict(X_test_std)\n",
    "svm.score(X_test_std, y_test)"
   ]
  },
  {
   "cell_type": "code",
   "execution_count": 146,
   "metadata": {},
   "outputs": [
    {
     "name": "stdout",
     "output_type": "stream",
     "text": [
      "              precision    recall  f1-score   support\n",
      "\n",
      "           0       0.84      1.00      0.91      1600\n",
      "           1       0.00      0.00      0.00       316\n",
      "\n",
      "   micro avg       0.84      0.84      0.84      1916\n",
      "   macro avg       0.42      0.50      0.46      1916\n",
      "weighted avg       0.70      0.84      0.76      1916\n",
      "\n",
      "[[1600    0]\n",
      " [ 316    0]]\n"
     ]
    }
   ],
   "source": [
    "#model performed\n",
    "print(classification_report(y_test,pred_svm))\n",
    "print(confusion_matrix(y_test, pred_svm))"
   ]
  },
  {
   "cell_type": "markdown",
   "metadata": {},
   "source": [
    "# Logistic Classifier"
   ]
  },
  {
   "cell_type": "code",
   "execution_count": 147,
   "metadata": {},
   "outputs": [
    {
     "data": {
      "text/plain": [
       "0.8345511482254697"
      ]
     },
     "execution_count": 147,
     "metadata": {},
     "output_type": "execute_result"
    }
   ],
   "source": [
    "log_reg = LogisticRegression()\n",
    "logreg = log_reg.fit(X_train_std, y_train)\n",
    "pred_logreg = log_reg.predict(X_test_std)\n",
    "logreg.score(X_test_std, y_test)"
   ]
  },
  {
   "cell_type": "code",
   "execution_count": 148,
   "metadata": {},
   "outputs": [
    {
     "name": "stdout",
     "output_type": "stream",
     "text": [
      "              precision    recall  f1-score   support\n",
      "\n",
      "           0       0.84      1.00      0.91      1600\n",
      "           1       0.43      0.01      0.02       316\n",
      "\n",
      "   micro avg       0.83      0.83      0.83      1916\n",
      "   macro avg       0.63      0.50      0.46      1916\n",
      "weighted avg       0.77      0.83      0.76      1916\n",
      "\n",
      "[[1596    4]\n",
      " [ 313    3]]\n"
     ]
    }
   ],
   "source": [
    "#log_reg.score(X_test, y_test)\n",
    "#model performed\n",
    "print(classification_report(y_test,pred_logreg))\n",
    "print(confusion_matrix(y_test, pred_logreg))"
   ]
  },
  {
   "cell_type": "markdown",
   "metadata": {},
   "source": [
    "# Decision Tree"
   ]
  },
  {
   "cell_type": "code",
   "execution_count": 149,
   "metadata": {},
   "outputs": [
    {
     "data": {
      "text/plain": [
       "0.7432150313152401"
      ]
     },
     "execution_count": 149,
     "metadata": {},
     "output_type": "execute_result"
    }
   ],
   "source": [
    "tree = DecisionTreeClassifier()\n",
    "Dtree= tree.fit(X_train_std, y_train)\n",
    "pred_Dtree = Dtree.predict(X_test_std)\n",
    "tree.score(X_test_std, y_test)"
   ]
  },
  {
   "cell_type": "code",
   "execution_count": 150,
   "metadata": {},
   "outputs": [
    {
     "name": "stdout",
     "output_type": "stream",
     "text": [
      "              precision    recall  f1-score   support\n",
      "\n",
      "           0       0.85      0.85      0.85      1600\n",
      "           1       0.22      0.22      0.22       316\n",
      "\n",
      "   micro avg       0.74      0.74      0.74      1916\n",
      "   macro avg       0.53      0.53      0.53      1916\n",
      "weighted avg       0.74      0.74      0.74      1916\n",
      "\n",
      "[[1354  246]\n",
      " [ 246   70]]\n"
     ]
    }
   ],
   "source": [
    "#model performed\n",
    "print(classification_report(y_test,pred_Dtree))\n",
    "print(confusion_matrix(y_test, pred_Dtree))"
   ]
  },
  {
   "cell_type": "markdown",
   "metadata": {},
   "source": [
    "# KNeighbors Classifier"
   ]
  },
  {
   "cell_type": "code",
   "execution_count": 151,
   "metadata": {},
   "outputs": [
    {
     "data": {
      "text/plain": [
       "0.8220250521920668"
      ]
     },
     "execution_count": 151,
     "metadata": {},
     "output_type": "execute_result"
    }
   ],
   "source": [
    "knn = KNeighborsClassifier(n_neighbors=7)\n",
    "KNC = knn.fit(X_train_std, y_train)\n",
    "pred_KNC = KNC.predict(X_test_std)\n",
    "knn.score(X_test_std, y_test)"
   ]
  },
  {
   "cell_type": "code",
   "execution_count": 152,
   "metadata": {},
   "outputs": [
    {
     "name": "stdout",
     "output_type": "stream",
     "text": [
      "              precision    recall  f1-score   support\n",
      "\n",
      "           0       0.84      0.98      0.90      1600\n",
      "           1       0.25      0.04      0.07       316\n",
      "\n",
      "   micro avg       0.82      0.82      0.82      1916\n",
      "   macro avg       0.55      0.51      0.49      1916\n",
      "weighted avg       0.74      0.82      0.76      1916\n",
      "\n",
      "[[1562   38]\n",
      " [ 303   13]]\n"
     ]
    }
   ],
   "source": [
    "#model performed\n",
    "print(classification_report(y_test,pred_KNC))\n",
    "print(confusion_matrix(y_test, pred_KNC))"
   ]
  },
  {
   "cell_type": "markdown",
   "metadata": {},
   "source": [
    "# Random Forest Classifier"
   ]
  },
  {
   "cell_type": "code",
   "execution_count": 153,
   "metadata": {},
   "outputs": [
    {
     "data": {
      "text/plain": [
       "0.8329853862212944"
      ]
     },
     "execution_count": 153,
     "metadata": {},
     "output_type": "execute_result"
    }
   ],
   "source": [
    "rfc = RandomForestClassifier(n_estimators=200)\n",
    "rfc = rfc.fit(X_train_std, y_train)\n",
    "pred_rfc = rfc.predict(X_test_std)\n",
    "rfc.score(X_test_std, y_test)"
   ]
  },
  {
   "cell_type": "code",
   "execution_count": 154,
   "metadata": {},
   "outputs": [
    {
     "name": "stdout",
     "output_type": "stream",
     "text": [
      "              precision    recall  f1-score   support\n",
      "\n",
      "           0       0.84      0.99      0.91      1600\n",
      "           1       0.39      0.02      0.04       316\n",
      "\n",
      "   micro avg       0.83      0.83      0.83      1916\n",
      "   macro avg       0.61      0.51      0.48      1916\n",
      "weighted avg       0.76      0.83      0.77      1916\n",
      "\n",
      "[[1589   11]\n",
      " [ 309    7]]\n"
     ]
    }
   ],
   "source": [
    "#model performed\n",
    "print(classification_report(y_test,pred_rfc))\n",
    "print(confusion_matrix(y_test, pred_rfc))"
   ]
  },
  {
   "cell_type": "markdown",
   "metadata": {},
   "source": [
    "# Apply one hot encoding"
   ]
  },
  {
   "cell_type": "code",
   "execution_count": 155,
   "metadata": {},
   "outputs": [
    {
     "data": {
      "text/plain": [
       "['debt_consolidation',\n",
       " 'credit_card',\n",
       " 'all_other',\n",
       " 'home_improvement',\n",
       " 'small_business',\n",
       " 'major_purchase',\n",
       " 'educational']"
      ]
     },
     "execution_count": 155,
     "metadata": {},
     "output_type": "execute_result"
    }
   ],
   "source": [
    "list(loan[\"purpose\"].unique())"
   ]
  },
  {
   "cell_type": "code",
   "execution_count": 156,
   "metadata": {},
   "outputs": [
    {
     "data": {
      "text/html": [
       "<div>\n",
       "<style scoped>\n",
       "    .dataframe tbody tr th:only-of-type {\n",
       "        vertical-align: middle;\n",
       "    }\n",
       "\n",
       "    .dataframe tbody tr th {\n",
       "        vertical-align: top;\n",
       "    }\n",
       "\n",
       "    .dataframe thead th {\n",
       "        text-align: right;\n",
       "    }\n",
       "</style>\n",
       "<table border=\"1\" class=\"dataframe\">\n",
       "  <thead>\n",
       "    <tr style=\"text-align: right;\">\n",
       "      <th></th>\n",
       "      <th>credit.policy</th>\n",
       "      <th>int.rate</th>\n",
       "      <th>installment</th>\n",
       "      <th>log.annual.inc</th>\n",
       "      <th>dti</th>\n",
       "      <th>fico</th>\n",
       "      <th>days.with.cr.line</th>\n",
       "      <th>revol.bal</th>\n",
       "      <th>revol.util</th>\n",
       "      <th>inq.last.6mths</th>\n",
       "      <th>delinq.2yrs</th>\n",
       "      <th>pub.rec</th>\n",
       "      <th>not.fully.paid</th>\n",
       "      <th>purpose_all_other</th>\n",
       "      <th>purpose_credit_card</th>\n",
       "      <th>purpose_debt_consolidation</th>\n",
       "      <th>purpose_educational</th>\n",
       "      <th>purpose_home_improvement</th>\n",
       "      <th>purpose_major_purchase</th>\n",
       "      <th>purpose_small_business</th>\n",
       "    </tr>\n",
       "  </thead>\n",
       "  <tbody>\n",
       "    <tr>\n",
       "      <th>0</th>\n",
       "      <td>1</td>\n",
       "      <td>0.1189</td>\n",
       "      <td>829.10</td>\n",
       "      <td>11.350407</td>\n",
       "      <td>19.48</td>\n",
       "      <td>737.0</td>\n",
       "      <td>5639.958333</td>\n",
       "      <td>28854.0</td>\n",
       "      <td>52.1</td>\n",
       "      <td>2.0</td>\n",
       "      <td>1.0</td>\n",
       "      <td>1.0</td>\n",
       "      <td>0</td>\n",
       "      <td>0</td>\n",
       "      <td>0</td>\n",
       "      <td>1</td>\n",
       "      <td>0</td>\n",
       "      <td>0</td>\n",
       "      <td>0</td>\n",
       "      <td>0</td>\n",
       "    </tr>\n",
       "    <tr>\n",
       "      <th>1</th>\n",
       "      <td>1</td>\n",
       "      <td>0.1071</td>\n",
       "      <td>228.22</td>\n",
       "      <td>11.082143</td>\n",
       "      <td>14.29</td>\n",
       "      <td>707.0</td>\n",
       "      <td>2760.000000</td>\n",
       "      <td>33623.0</td>\n",
       "      <td>76.7</td>\n",
       "      <td>2.0</td>\n",
       "      <td>1.0</td>\n",
       "      <td>1.0</td>\n",
       "      <td>0</td>\n",
       "      <td>0</td>\n",
       "      <td>1</td>\n",
       "      <td>0</td>\n",
       "      <td>0</td>\n",
       "      <td>0</td>\n",
       "      <td>0</td>\n",
       "      <td>0</td>\n",
       "    </tr>\n",
       "    <tr>\n",
       "      <th>2</th>\n",
       "      <td>1</td>\n",
       "      <td>0.1357</td>\n",
       "      <td>366.86</td>\n",
       "      <td>10.373491</td>\n",
       "      <td>11.63</td>\n",
       "      <td>682.0</td>\n",
       "      <td>4710.000000</td>\n",
       "      <td>3511.0</td>\n",
       "      <td>47.8</td>\n",
       "      <td>1.0</td>\n",
       "      <td>1.0</td>\n",
       "      <td>1.0</td>\n",
       "      <td>0</td>\n",
       "      <td>0</td>\n",
       "      <td>0</td>\n",
       "      <td>1</td>\n",
       "      <td>0</td>\n",
       "      <td>0</td>\n",
       "      <td>0</td>\n",
       "      <td>0</td>\n",
       "    </tr>\n",
       "    <tr>\n",
       "      <th>3</th>\n",
       "      <td>1</td>\n",
       "      <td>0.1008</td>\n",
       "      <td>162.34</td>\n",
       "      <td>10.928238</td>\n",
       "      <td>8.10</td>\n",
       "      <td>712.0</td>\n",
       "      <td>2699.958333</td>\n",
       "      <td>8989.0</td>\n",
       "      <td>73.2</td>\n",
       "      <td>1.0</td>\n",
       "      <td>1.0</td>\n",
       "      <td>1.0</td>\n",
       "      <td>0</td>\n",
       "      <td>0</td>\n",
       "      <td>0</td>\n",
       "      <td>1</td>\n",
       "      <td>0</td>\n",
       "      <td>0</td>\n",
       "      <td>0</td>\n",
       "      <td>0</td>\n",
       "    </tr>\n",
       "    <tr>\n",
       "      <th>4</th>\n",
       "      <td>1</td>\n",
       "      <td>0.1426</td>\n",
       "      <td>102.92</td>\n",
       "      <td>11.299732</td>\n",
       "      <td>14.97</td>\n",
       "      <td>707.0</td>\n",
       "      <td>4066.000000</td>\n",
       "      <td>4740.0</td>\n",
       "      <td>39.5</td>\n",
       "      <td>2.0</td>\n",
       "      <td>1.0</td>\n",
       "      <td>1.0</td>\n",
       "      <td>0</td>\n",
       "      <td>0</td>\n",
       "      <td>1</td>\n",
       "      <td>0</td>\n",
       "      <td>0</td>\n",
       "      <td>0</td>\n",
       "      <td>0</td>\n",
       "      <td>0</td>\n",
       "    </tr>\n",
       "  </tbody>\n",
       "</table>\n",
       "</div>"
      ],
      "text/plain": [
       "   credit.policy  int.rate  installment  log.annual.inc    dti   fico  \\\n",
       "0              1    0.1189       829.10       11.350407  19.48  737.0   \n",
       "1              1    0.1071       228.22       11.082143  14.29  707.0   \n",
       "2              1    0.1357       366.86       10.373491  11.63  682.0   \n",
       "3              1    0.1008       162.34       10.928238   8.10  712.0   \n",
       "4              1    0.1426       102.92       11.299732  14.97  707.0   \n",
       "\n",
       "   days.with.cr.line  revol.bal  revol.util  inq.last.6mths  delinq.2yrs  \\\n",
       "0        5639.958333    28854.0        52.1             2.0          1.0   \n",
       "1        2760.000000    33623.0        76.7             2.0          1.0   \n",
       "2        4710.000000     3511.0        47.8             1.0          1.0   \n",
       "3        2699.958333     8989.0        73.2             1.0          1.0   \n",
       "4        4066.000000     4740.0        39.5             2.0          1.0   \n",
       "\n",
       "   pub.rec  not.fully.paid  purpose_all_other  purpose_credit_card  \\\n",
       "0      1.0               0                  0                    0   \n",
       "1      1.0               0                  0                    1   \n",
       "2      1.0               0                  0                    0   \n",
       "3      1.0               0                  0                    0   \n",
       "4      1.0               0                  0                    1   \n",
       "\n",
       "   purpose_debt_consolidation  purpose_educational  purpose_home_improvement  \\\n",
       "0                           1                    0                         0   \n",
       "1                           0                    0                         0   \n",
       "2                           1                    0                         0   \n",
       "3                           1                    0                         0   \n",
       "4                           0                    0                         0   \n",
       "\n",
       "   purpose_major_purchase  purpose_small_business  \n",
       "0                       0                       0  \n",
       "1                       0                       0  \n",
       "2                       0                       0  \n",
       "3                       0                       0  \n",
       "4                       0                       0  "
      ]
     },
     "execution_count": 156,
     "metadata": {},
     "output_type": "execute_result"
    }
   ],
   "source": [
    "onehot_purpose = pd.get_dummies(loan, columns=[\"purpose\"])\n",
    "onehot_purpose.head()"
   ]
  },
  {
   "cell_type": "markdown",
   "metadata": {},
   "source": [
    "# Feature Engineering"
   ]
  },
  {
   "cell_type": "code",
   "execution_count": 157,
   "metadata": {},
   "outputs": [
    {
     "data": {
      "text/plain": [
       "Index(['credit.policy', 'int.rate', 'installment', 'log.annual.inc', 'dti',\n",
       "       'fico', 'days.with.cr.line', 'revol.bal', 'revol.util',\n",
       "       'inq.last.6mths', 'delinq.2yrs', 'pub.rec', 'not.fully.paid',\n",
       "       'purpose_all_other', 'purpose_credit_card',\n",
       "       'purpose_debt_consolidation', 'purpose_educational',\n",
       "       'purpose_home_improvement', 'purpose_major_purchase',\n",
       "       'purpose_small_business'],\n",
       "      dtype='object')"
      ]
     },
     "execution_count": 157,
     "metadata": {},
     "output_type": "execute_result"
    }
   ],
   "source": [
    "onehot_purpose.columns"
   ]
  },
  {
   "cell_type": "code",
   "execution_count": 158,
   "metadata": {},
   "outputs": [],
   "source": [
    "#y is the valuable we are looking for \n",
    "feature_names = ['credit.policy', 'int.rate', 'installment', 'log.annual.inc', 'dti',\n",
    "       'fico', 'days.with.cr.line', 'revol.bal', 'revol.util',\n",
    "       'inq.last.6mths', 'delinq.2yrs', 'pub.rec',\n",
    "       'purpose_all_other', 'purpose_credit_card',\n",
    "       'purpose_debt_consolidation', 'purpose_educational',\n",
    "       'purpose_home_improvement', 'purpose_major_purchase',\n",
    "       'purpose_small_business']\n",
    "X = onehot_purpose[feature_names].values\n",
    "y = onehot_purpose['not.fully.paid'].values"
   ]
  },
  {
   "cell_type": "markdown",
   "metadata": {},
   "source": [
    "# Split data into train and test sets"
   ]
  },
  {
   "cell_type": "code",
   "execution_count": 159,
   "metadata": {},
   "outputs": [],
   "source": [
    "# split dataset into test/train in 80% /20%\n",
    "# random_state shuffle the same way everytime\n",
    "X_train, X_test, y_train, y_test = train_test_split(X, y, random_state=35, test_size=0.2)"
   ]
  },
  {
   "cell_type": "code",
   "execution_count": 160,
   "metadata": {},
   "outputs": [
    {
     "data": {
      "text/plain": [
       "((7662, 19), (1916, 19))"
      ]
     },
     "execution_count": 160,
     "metadata": {},
     "output_type": "execute_result"
    }
   ],
   "source": [
    "X_train.shape, X_test.shape"
   ]
  },
  {
   "cell_type": "markdown",
   "metadata": {},
   "source": [
    "# Standardize the data"
   ]
  },
  {
   "cell_type": "code",
   "execution_count": 161,
   "metadata": {},
   "outputs": [],
   "source": [
    "# scale/standardize features\n",
    "#why we don't call fit on test data? \n",
    "# fit_transform - fit get the mean of the std for this dataset. Transform - take the mean and calculate the value  \n",
    "stdsc = StandardScaler()\n",
    "X_train_std = stdsc.fit_transform(X_train)\n",
    "X_test_std = stdsc.transform(X_test) "
   ]
  },
  {
   "cell_type": "code",
   "execution_count": 162,
   "metadata": {},
   "outputs": [
    {
     "data": {
      "text/plain": [
       "array([[0.00000000e+00, 1.28700000e-01, 6.72670000e+02, 1.16082356e+01,\n",
       "        2.34000000e+01, 7.17000000e+02, 5.43000000e+03, 1.22620000e+05,\n",
       "        4.78000000e+01, 2.00000000e+00, 1.00000000e+00, 1.00000000e+00,\n",
       "        0.00000000e+00, 1.00000000e+00, 0.00000000e+00, 0.00000000e+00,\n",
       "        0.00000000e+00, 0.00000000e+00, 0.00000000e+00]])"
      ]
     },
     "execution_count": 162,
     "metadata": {},
     "output_type": "execute_result"
    }
   ],
   "source": [
    "X_train[:1]"
   ]
  },
  {
   "cell_type": "code",
   "execution_count": 163,
   "metadata": {},
   "outputs": [
    {
     "data": {
      "text/plain": [
       "array([[-2.0420677 ,  0.22778317,  1.70353581,  1.0941218 ,  1.57090349,\n",
       "         0.16553278,  0.34509987,  3.11988255, -0.0191254 , -0.1832118 ,\n",
       "        -0.13761748, -0.04584713, -0.57102047,  2.61426009, -0.84481393,\n",
       "        -0.19330803, -0.26252126, -0.2213916 , -0.25880942]])"
      ]
     },
     "execution_count": 163,
     "metadata": {},
     "output_type": "execute_result"
    }
   ],
   "source": [
    "X_train_std[:1]"
   ]
  },
  {
   "cell_type": "markdown",
   "metadata": {},
   "source": [
    "# SVM Classifier"
   ]
  },
  {
   "cell_type": "code",
   "execution_count": 164,
   "metadata": {},
   "outputs": [
    {
     "data": {
      "text/plain": [
       "0.8350730688935282"
      ]
     },
     "execution_count": 164,
     "metadata": {},
     "output_type": "execute_result"
    }
   ],
   "source": [
    "svm = SVC(kernel='linear')\n",
    "svm.fit(X_train_std, y_train)\n",
    "pred_svm = svm.predict(X_test_std)\n",
    "svm.score(X_test_std, y_test)"
   ]
  },
  {
   "cell_type": "code",
   "execution_count": 165,
   "metadata": {},
   "outputs": [
    {
     "name": "stdout",
     "output_type": "stream",
     "text": [
      "              precision    recall  f1-score   support\n",
      "\n",
      "           0       0.84      1.00      0.91      1600\n",
      "           1       0.00      0.00      0.00       316\n",
      "\n",
      "   micro avg       0.84      0.84      0.84      1916\n",
      "   macro avg       0.42      0.50      0.46      1916\n",
      "weighted avg       0.70      0.84      0.76      1916\n",
      "\n",
      "[[1600    0]\n",
      " [ 316    0]]\n"
     ]
    }
   ],
   "source": [
    "#model performed\n",
    "print(classification_report(y_test,pred_svm))\n",
    "print(confusion_matrix(y_test, pred_svm))"
   ]
  },
  {
   "cell_type": "markdown",
   "metadata": {},
   "source": [
    "# Logistic Classifier"
   ]
  },
  {
   "cell_type": "code",
   "execution_count": 166,
   "metadata": {},
   "outputs": [
    {
     "data": {
      "text/plain": [
       "0.8340292275574113"
      ]
     },
     "execution_count": 166,
     "metadata": {},
     "output_type": "execute_result"
    }
   ],
   "source": [
    "log_reg = LogisticRegression()\n",
    "logreg = log_reg.fit(X_train_std, y_train)\n",
    "pred_logreg = log_reg.predict(X_test_std)\n",
    "logreg.score(X_test_std, y_test)"
   ]
  },
  {
   "cell_type": "code",
   "execution_count": 167,
   "metadata": {},
   "outputs": [
    {
     "name": "stdout",
     "output_type": "stream",
     "text": [
      "              precision    recall  f1-score   support\n",
      "\n",
      "           0       0.84      0.99      0.91      1600\n",
      "           1       0.45      0.03      0.05       316\n",
      "\n",
      "   micro avg       0.83      0.83      0.83      1916\n",
      "   macro avg       0.64      0.51      0.48      1916\n",
      "weighted avg       0.77      0.83      0.77      1916\n",
      "\n",
      "[[1589   11]\n",
      " [ 307    9]]\n"
     ]
    }
   ],
   "source": [
    "#model performed\n",
    "print(classification_report(y_test,pred_logreg))\n",
    "print(confusion_matrix(y_test, pred_logreg))"
   ]
  },
  {
   "cell_type": "markdown",
   "metadata": {},
   "source": [
    "# Decision Tree"
   ]
  },
  {
   "cell_type": "code",
   "execution_count": 168,
   "metadata": {},
   "outputs": [
    {
     "data": {
      "text/plain": [
       "0.7406054279749478"
      ]
     },
     "execution_count": 168,
     "metadata": {},
     "output_type": "execute_result"
    }
   ],
   "source": [
    "tree = DecisionTreeClassifier()\n",
    "Dtree= tree.fit(X_train_std, y_train)\n",
    "pred_Dtree = Dtree.predict(X_test_std)\n",
    "Dtree.score(X_test_std, y_test)"
   ]
  },
  {
   "cell_type": "code",
   "execution_count": 169,
   "metadata": {},
   "outputs": [
    {
     "name": "stdout",
     "output_type": "stream",
     "text": [
      "              precision    recall  f1-score   support\n",
      "\n",
      "           0       0.85      0.84      0.84      1600\n",
      "           1       0.22      0.23      0.22       316\n",
      "\n",
      "   micro avg       0.74      0.74      0.74      1916\n",
      "   macro avg       0.53      0.53      0.53      1916\n",
      "weighted avg       0.74      0.74      0.74      1916\n",
      "\n",
      "[[1347  253]\n",
      " [ 244   72]]\n"
     ]
    }
   ],
   "source": [
    "#model performed\n",
    "print(classification_report(y_test,pred_Dtree))\n",
    "print(confusion_matrix(y_test, pred_Dtree))"
   ]
  },
  {
   "cell_type": "markdown",
   "metadata": {},
   "source": [
    "# KNeighborsClassifier"
   ]
  },
  {
   "cell_type": "code",
   "execution_count": 170,
   "metadata": {},
   "outputs": [
    {
     "data": {
      "text/plain": [
       "0.8194154488517745"
      ]
     },
     "execution_count": 170,
     "metadata": {},
     "output_type": "execute_result"
    }
   ],
   "source": [
    "knn = KNeighborsClassifier(n_neighbors=7)\n",
    "KNC = knn.fit(X_train_std, y_train)\n",
    "pred_KNC = KNC.predict(X_test_std)\n",
    "KNC.score(X_test_std, y_test)"
   ]
  },
  {
   "cell_type": "code",
   "execution_count": 171,
   "metadata": {},
   "outputs": [
    {
     "name": "stdout",
     "output_type": "stream",
     "text": [
      "              precision    recall  f1-score   support\n",
      "\n",
      "           0       0.84      0.97      0.90      1600\n",
      "           1       0.26      0.05      0.08       316\n",
      "\n",
      "   micro avg       0.82      0.82      0.82      1916\n",
      "   macro avg       0.55      0.51      0.49      1916\n",
      "weighted avg       0.74      0.82      0.77      1916\n",
      "\n",
      "[[1554   46]\n",
      " [ 300   16]]\n"
     ]
    }
   ],
   "source": [
    "#model performed\n",
    "print(classification_report(y_test,pred_KNC))\n",
    "print(confusion_matrix(y_test, pred_KNC))"
   ]
  },
  {
   "cell_type": "markdown",
   "metadata": {},
   "source": [
    "# Random Forest Classifier"
   ]
  },
  {
   "cell_type": "code",
   "execution_count": 172,
   "metadata": {},
   "outputs": [
    {
     "data": {
      "text/plain": [
       "0.831419624217119"
      ]
     },
     "execution_count": 172,
     "metadata": {},
     "output_type": "execute_result"
    }
   ],
   "source": [
    "rfc = RandomForestClassifier(n_estimators=200)\n",
    "rfc = rfc.fit(X_train_std, y_train)\n",
    "pred_rfc = rfc.predict(X_test_std)\n",
    "rfc.score(X_test_std, y_test)"
   ]
  },
  {
   "cell_type": "code",
   "execution_count": 173,
   "metadata": {},
   "outputs": [
    {
     "name": "stdout",
     "output_type": "stream",
     "text": [
      "              precision    recall  f1-score   support\n",
      "\n",
      "           0       0.84      0.99      0.91      1600\n",
      "           1       0.29      0.02      0.03       316\n",
      "\n",
      "   micro avg       0.83      0.83      0.83      1916\n",
      "   macro avg       0.57      0.50      0.47      1916\n",
      "weighted avg       0.75      0.83      0.76      1916\n",
      "\n",
      "[[1588   12]\n",
      " [ 311    5]]\n"
     ]
    }
   ],
   "source": [
    "#model performed\n",
    "print(classification_report(y_test,pred_rfc))\n",
    "print(confusion_matrix(y_test, pred_rfc))"
   ]
  },
  {
   "cell_type": "markdown",
   "metadata": {},
   "source": [
    "# Cross Validation"
   ]
  },
  {
   "cell_type": "code",
   "execution_count": 174,
   "metadata": {},
   "outputs": [],
   "source": [
    "# 10-fold cross validation with a list of algorithms\n",
    "\n",
    "classifiers = [svm, log_reg, Dtree, KNC, rfc]\n",
    "\n",
    "model_scores = []\n",
    "for clf in classifiers:\n",
    "    model_scores.append(cross_val_score(clf, X_train_std, y_train, scoring='accuracy', cv=10))"
   ]
  },
  {
   "cell_type": "code",
   "execution_count": 175,
   "metadata": {},
   "outputs": [
    {
     "data": {
      "text/html": [
       "<div>\n",
       "<style scoped>\n",
       "    .dataframe tbody tr th:only-of-type {\n",
       "        vertical-align: middle;\n",
       "    }\n",
       "\n",
       "    .dataframe tbody tr th {\n",
       "        vertical-align: top;\n",
       "    }\n",
       "\n",
       "    .dataframe thead th {\n",
       "        text-align: right;\n",
       "    }\n",
       "</style>\n",
       "<table border=\"1\" class=\"dataframe\">\n",
       "  <thead>\n",
       "    <tr style=\"text-align: right;\">\n",
       "      <th></th>\n",
       "      <th>1</th>\n",
       "      <th>2</th>\n",
       "      <th>3</th>\n",
       "      <th>4</th>\n",
       "      <th>5</th>\n",
       "      <th>6</th>\n",
       "      <th>7</th>\n",
       "      <th>8</th>\n",
       "      <th>9</th>\n",
       "      <th>10</th>\n",
       "    </tr>\n",
       "  </thead>\n",
       "  <tbody>\n",
       "    <tr>\n",
       "      <th>SVM</th>\n",
       "      <td>0.840939</td>\n",
       "      <td>0.840939</td>\n",
       "      <td>0.840939</td>\n",
       "      <td>0.840939</td>\n",
       "      <td>0.840939</td>\n",
       "      <td>0.840731</td>\n",
       "      <td>0.840731</td>\n",
       "      <td>0.841830</td>\n",
       "      <td>0.841830</td>\n",
       "      <td>0.841830</td>\n",
       "    </tr>\n",
       "    <tr>\n",
       "      <th>LR</th>\n",
       "      <td>0.838331</td>\n",
       "      <td>0.843546</td>\n",
       "      <td>0.839635</td>\n",
       "      <td>0.844850</td>\n",
       "      <td>0.842243</td>\n",
       "      <td>0.844648</td>\n",
       "      <td>0.839426</td>\n",
       "      <td>0.841830</td>\n",
       "      <td>0.837908</td>\n",
       "      <td>0.841830</td>\n",
       "    </tr>\n",
       "    <tr>\n",
       "      <th>DTree</th>\n",
       "      <td>0.761408</td>\n",
       "      <td>0.736636</td>\n",
       "      <td>0.758801</td>\n",
       "      <td>0.700130</td>\n",
       "      <td>0.706649</td>\n",
       "      <td>0.720627</td>\n",
       "      <td>0.755875</td>\n",
       "      <td>0.715033</td>\n",
       "      <td>0.747712</td>\n",
       "      <td>0.745098</td>\n",
       "    </tr>\n",
       "    <tr>\n",
       "      <th>KNC</th>\n",
       "      <td>0.835724</td>\n",
       "      <td>0.825293</td>\n",
       "      <td>0.827901</td>\n",
       "      <td>0.817471</td>\n",
       "      <td>0.823990</td>\n",
       "      <td>0.835509</td>\n",
       "      <td>0.832898</td>\n",
       "      <td>0.819608</td>\n",
       "      <td>0.835294</td>\n",
       "      <td>0.828758</td>\n",
       "    </tr>\n",
       "    <tr>\n",
       "      <th>Forest</th>\n",
       "      <td>0.835724</td>\n",
       "      <td>0.842243</td>\n",
       "      <td>0.840939</td>\n",
       "      <td>0.843546</td>\n",
       "      <td>0.840939</td>\n",
       "      <td>0.842037</td>\n",
       "      <td>0.836815</td>\n",
       "      <td>0.841830</td>\n",
       "      <td>0.840523</td>\n",
       "      <td>0.836601</td>\n",
       "    </tr>\n",
       "  </tbody>\n",
       "</table>\n",
       "</div>"
      ],
      "text/plain": [
       "              1         2         3         4         5         6         7   \\\n",
       "SVM     0.840939  0.840939  0.840939  0.840939  0.840939  0.840731  0.840731   \n",
       "LR      0.838331  0.843546  0.839635  0.844850  0.842243  0.844648  0.839426   \n",
       "DTree   0.761408  0.736636  0.758801  0.700130  0.706649  0.720627  0.755875   \n",
       "KNC     0.835724  0.825293  0.827901  0.817471  0.823990  0.835509  0.832898   \n",
       "Forest  0.835724  0.842243  0.840939  0.843546  0.840939  0.842037  0.836815   \n",
       "\n",
       "              8         9         10  \n",
       "SVM     0.841830  0.841830  0.841830  \n",
       "LR      0.841830  0.837908  0.841830  \n",
       "DTree   0.715033  0.747712  0.745098  \n",
       "KNC     0.819608  0.835294  0.828758  \n",
       "Forest  0.841830  0.840523  0.836601  "
      ]
     },
     "execution_count": 175,
     "metadata": {},
     "output_type": "execute_result"
    }
   ],
   "source": [
    "# use a DataFrame to view the cross validation results\n",
    "\n",
    "models_df = pd.DataFrame(model_scores, columns=[1,2,3,4,5,6,7,8,9,10],\n",
    "                               index=[\"SVM\", \"LR\", \"DTree\", \"KNC\", \"Forest\"])\n",
    "models_df"
   ]
  },
  {
   "cell_type": "code",
   "execution_count": 176,
   "metadata": {},
   "outputs": [
    {
     "data": {
      "text/html": [
       "<div>\n",
       "<style scoped>\n",
       "    .dataframe tbody tr th:only-of-type {\n",
       "        vertical-align: middle;\n",
       "    }\n",
       "\n",
       "    .dataframe tbody tr th {\n",
       "        vertical-align: top;\n",
       "    }\n",
       "\n",
       "    .dataframe thead th {\n",
       "        text-align: right;\n",
       "    }\n",
       "</style>\n",
       "<table border=\"1\" class=\"dataframe\">\n",
       "  <thead>\n",
       "    <tr style=\"text-align: right;\">\n",
       "      <th></th>\n",
       "      <th>1</th>\n",
       "      <th>2</th>\n",
       "      <th>3</th>\n",
       "      <th>4</th>\n",
       "      <th>5</th>\n",
       "      <th>6</th>\n",
       "      <th>7</th>\n",
       "      <th>8</th>\n",
       "      <th>9</th>\n",
       "      <th>10</th>\n",
       "      <th>Mean</th>\n",
       "    </tr>\n",
       "  </thead>\n",
       "  <tbody>\n",
       "    <tr>\n",
       "      <th>SVM</th>\n",
       "      <td>0.840939</td>\n",
       "      <td>0.840939</td>\n",
       "      <td>0.840939</td>\n",
       "      <td>0.840939</td>\n",
       "      <td>0.840939</td>\n",
       "      <td>0.840731</td>\n",
       "      <td>0.840731</td>\n",
       "      <td>0.841830</td>\n",
       "      <td>0.841830</td>\n",
       "      <td>0.841830</td>\n",
       "      <td>0.841165</td>\n",
       "    </tr>\n",
       "    <tr>\n",
       "      <th>LR</th>\n",
       "      <td>0.838331</td>\n",
       "      <td>0.843546</td>\n",
       "      <td>0.839635</td>\n",
       "      <td>0.844850</td>\n",
       "      <td>0.842243</td>\n",
       "      <td>0.844648</td>\n",
       "      <td>0.839426</td>\n",
       "      <td>0.841830</td>\n",
       "      <td>0.837908</td>\n",
       "      <td>0.841830</td>\n",
       "      <td>0.841425</td>\n",
       "    </tr>\n",
       "    <tr>\n",
       "      <th>DTree</th>\n",
       "      <td>0.761408</td>\n",
       "      <td>0.736636</td>\n",
       "      <td>0.758801</td>\n",
       "      <td>0.700130</td>\n",
       "      <td>0.706649</td>\n",
       "      <td>0.720627</td>\n",
       "      <td>0.755875</td>\n",
       "      <td>0.715033</td>\n",
       "      <td>0.747712</td>\n",
       "      <td>0.745098</td>\n",
       "      <td>0.734797</td>\n",
       "    </tr>\n",
       "    <tr>\n",
       "      <th>KNC</th>\n",
       "      <td>0.835724</td>\n",
       "      <td>0.825293</td>\n",
       "      <td>0.827901</td>\n",
       "      <td>0.817471</td>\n",
       "      <td>0.823990</td>\n",
       "      <td>0.835509</td>\n",
       "      <td>0.832898</td>\n",
       "      <td>0.819608</td>\n",
       "      <td>0.835294</td>\n",
       "      <td>0.828758</td>\n",
       "      <td>0.828245</td>\n",
       "    </tr>\n",
       "    <tr>\n",
       "      <th>Forest</th>\n",
       "      <td>0.835724</td>\n",
       "      <td>0.842243</td>\n",
       "      <td>0.840939</td>\n",
       "      <td>0.843546</td>\n",
       "      <td>0.840939</td>\n",
       "      <td>0.842037</td>\n",
       "      <td>0.836815</td>\n",
       "      <td>0.841830</td>\n",
       "      <td>0.840523</td>\n",
       "      <td>0.836601</td>\n",
       "      <td>0.840120</td>\n",
       "    </tr>\n",
       "  </tbody>\n",
       "</table>\n",
       "</div>"
      ],
      "text/plain": [
       "               1         2         3         4         5         6         7  \\\n",
       "SVM     0.840939  0.840939  0.840939  0.840939  0.840939  0.840731  0.840731   \n",
       "LR      0.838331  0.843546  0.839635  0.844850  0.842243  0.844648  0.839426   \n",
       "DTree   0.761408  0.736636  0.758801  0.700130  0.706649  0.720627  0.755875   \n",
       "KNC     0.835724  0.825293  0.827901  0.817471  0.823990  0.835509  0.832898   \n",
       "Forest  0.835724  0.842243  0.840939  0.843546  0.840939  0.842037  0.836815   \n",
       "\n",
       "               8         9        10      Mean  \n",
       "SVM     0.841830  0.841830  0.841830  0.841165  \n",
       "LR      0.841830  0.837908  0.841830  0.841425  \n",
       "DTree   0.715033  0.747712  0.745098  0.734797  \n",
       "KNC     0.819608  0.835294  0.828758  0.828245  \n",
       "Forest  0.841830  0.840523  0.836601  0.840120  "
      ]
     },
     "execution_count": 176,
     "metadata": {},
     "output_type": "execute_result"
    }
   ],
   "source": [
    "# add a \"Mean\" column to the end of the DataFrame\n",
    "\n",
    "models_df[\"Mean\"] = models_df.mean(axis=1)\n",
    "models_df"
   ]
  },
  {
   "cell_type": "markdown",
   "metadata": {},
   "source": [
    "# Boxplot and Model Selection"
   ]
  },
  {
   "cell_type": "code",
   "execution_count": 179,
   "metadata": {},
   "outputs": [
    {
     "data": {
      "image/png": "[encoded data removed]",
      "text/plain": [
       "<Figure size 1296x576 with 1 Axes>"
      ]
     },
     "metadata": {
      "needs_background": "light"
     },
     "output_type": "display_data"
    }
   ],
   "source": [
    "# BOXPLOT - visually comparing performance of the models\n",
    "\n",
    "fig, axes = plt.subplots(nrows=1, ncols=1, figsize=(18, 8))\n",
    "# rectangular box plot\n",
    "bplot_models = axes.boxplot(model_scores, vert=True, patch_artist=True)\n",
    "\n",
    "# fill with colors - Models\n",
    "colors_d = [\"lightgreen\", \"lightyellow\", \"lime\", \"yellow\", \"yellowgreen\"]\n",
    "for patch, color in zip(bplot_models['boxes'], colors_d):\n",
    "    patch.set_facecolor(color)\n",
    "    \n",
    "    # adding axes labels\n",
    "axes.yaxis.grid(True)\n",
    "axes.set_xticks([y+1 for y in range(len(model_scores))])\n",
    "axes.set_xlabel('Classification Models', fontsize=18)\n",
    "axes.set_ylabel('Accuracy', fontsize=18)\n",
    "#axes.set_ylim((0.7, 0.85))\n",
    "axes.set_title('Classification Accuracy using All Features', fontsize = 18)\n",
    "\n",
    "# add x-tick labels\n",
    "plt.setp(axes, xticks=[y+1 for y in range(len(model_scores))],xticklabels=['SVM', 'LR', 'DTree', 'KNC', 'Forest'])\n",
    "\n",
    "# increase tick size\n",
    "y_ticks = axes.get_yticklabels()\n",
    "x_ticks = axes.get_xticklabels()\n",
    "\n",
    "for x in x_ticks: \n",
    "    x.set_fontsize(18)       \n",
    "for y in y_ticks:\n",
    "    y.set_fontsize(18)"
   ]
  },
  {
   "cell_type": "markdown",
   "metadata": {},
   "source": [
    "# Hyperparameter Tuning (Grid Search)"
   ]
  },
  {
   "cell_type": "code",
   "execution_count": null,
   "metadata": {},
   "outputs": [],
   "source": [
    "# hyperparameter tuning can be done manually or using Grid Search\n",
    "# GridSearch returns the best model from among the various given hyperparameters\n",
    "\n",
    "# Grid Search\n",
    "param_range = [0.0001, 0.001, .005, 0.01, 0.1, 1.0, 10.0, 100.0, 1000.0]\n",
    "gs = GridSearchCV(estimator=svm, param_grid=[{'C': param_range, 'gamma': param_range, 'kernel': ['linear','rbf']}], scoring='accuracy', cv=3, n_jobs=-1)\n",
    "\n",
    "#gs = GridSearchCV(estimator=knn, param_grid=[{'weights': ['distance', 'uniform'], 'n_neighbors': [3, 5, 7]}], scoring='accuracy', cv=3)\n",
    "\n",
    "# GridSearch, by default, will return the best model, refit using ALL of the training data.\n",
    "# Cross Validation, evaluates the returned GridSearch model\n",
    "cross_val_score(gs, X_train_std, y_train)"
   ]
  },
  {
   "cell_type": "code",
   "execution_count": null,
   "metadata": {},
   "outputs": [],
   "source": [
    "gs.fit(X_train_std, y_train)\n",
    "train_score = gs.score(X_train_std, y_train)\n",
    "test_score = gs.score(X_test_std, y_test)\n",
    "print(\"Train score: {} \\nTest score: {}\".format(train_score, test_score))"
   ]
  },
  {
   "cell_type": "code",
   "execution_count": null,
   "metadata": {},
   "outputs": [],
   "source": []
  }
 ],
 "metadata": {
  "kernelspec": {
   "display_name": "Python 3",
   "language": "python",
   "name": "python3"
  },
  "language_info": {
   "codemirror_mode": {
    "name": "ipython",
    "version": 3
   },
   "file_extension": ".py",
   "mimetype": "text/x-python",
   "name": "python",
   "nbconvert_exporter": "python",
   "pygments_lexer": "ipython3",
   "version": "3.7.2"
  }
 },
 "nbformat": 4,
 "nbformat_minor": 1
}
